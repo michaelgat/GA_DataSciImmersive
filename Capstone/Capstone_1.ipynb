{
 "cells": [
  {
   "cell_type": "markdown",
   "metadata": {},
   "source": [
    "# CAPSTONE PROJECT - PART 1\n",
    "__Michael Gat__  \n",
    "__General Assembly Santa Monica, Data Science Immersive, Summer 2016__\n",
    "\n",
    "In this notebook, we'll work through the data, cleaning it up and turning it into classification variables as we go. In some cases this is rather simple. In others, we may need to explore the data more thoroughly in order to identify the values that need to become columns in the complete dataset. The objective is a dataset including only numeric columns that can be used for classification purposes."
   ]
  },
  {
   "cell_type": "code",
   "execution_count": 144,
   "metadata": {
    "collapsed": true
   },
   "outputs": [],
   "source": [
    "# IMPORT LIBRARIES ############################################################\n",
    "\n",
    "import pandas as pd\n",
    "import numpy as np"
   ]
  },
  {
   "cell_type": "markdown",
   "metadata": {},
   "source": [
    "## DATA WRANGLING FUNCTIONS\n",
    "These functions are used below for cleaning data and assigning numeric codes in place of text categories."
   ]
  },
  {
   "cell_type": "code",
   "execution_count": 145,
   "metadata": {
    "collapsed": true
   },
   "outputs": [],
   "source": [
    "def age_group_classify(age):\n",
    "    #\n",
    "    # Assign simple numeric group for age based on age group reported\n",
    "    #\n",
    "    if age == '[0-10)':\n",
    "        return 0\n",
    "    elif age == '[10-20)':\n",
    "        return 1\n",
    "    elif age == '[20-30)':\n",
    "        return 2\n",
    "    elif age == '[30-40)':\n",
    "        return 3\n",
    "    elif age == '[40-50)':\n",
    "        return 4\n",
    "    elif age == '[50-60)':\n",
    "        return 5\n",
    "    elif age == '[60-70)':\n",
    "        return 6\n",
    "    elif age == '[70-80)':\n",
    "        return 7\n",
    "    elif age == '[80-90)':\n",
    "        return 8\n",
    "    elif age == '[90-100)':\n",
    "        return 9\n",
    "    else:\n",
    "        # Going to just go on the assumption that > 100 is a small enough group to be essentially an outlier\n",
    "        # I have confirmed that in current medical practice this is the case and I won't bother to break it\n",
    "        # down further, particularly given the tiny sample size.\n",
    "        return 10"
   ]
  },
  {
   "cell_type": "code",
   "execution_count": 146,
   "metadata": {
    "collapsed": true
   },
   "outputs": [],
   "source": [
    "def race_classify(race):\n",
    "    #\n",
    "    # Assign simple numeric group for race\n",
    "    #\n",
    "    if race == 'Caucasian':\n",
    "        return 1\n",
    "    elif race == 'AfricanAmerican':\n",
    "        return 2\n",
    "    elif race == 'Hispanic':\n",
    "        return 3\n",
    "    elif race == 'Asian':\n",
    "        return 4\n",
    "    else:\n",
    "        # All others are categorized either as 'Other' or '?' in the original data\n",
    "        # For the purposes of classification, they are treated as a single group\n",
    "        return 0"
   ]
  },
  {
   "cell_type": "code",
   "execution_count": 147,
   "metadata": {
    "collapsed": true
   },
   "outputs": [],
   "source": [
    "def readmit_group_classify(readmit):\n",
    "    #\n",
    "    # Simple target for readmit status, 0 or 1. May make more complex later\n",
    "    # 0 - not readmitted\n",
    "    # 0 - readmitted > 30 days\n",
    "    # 1 - readmitted < 30 days\n",
    "    #\n",
    "    if readmit == 'NO':\n",
    "        return 0\n",
    "    elif readmit == '>30':\n",
    "        return 0\n",
    "    else:\n",
    "        return 1"
   ]
  },
  {
   "cell_type": "code",
   "execution_count": 148,
   "metadata": {
    "collapsed": true
   },
   "outputs": [],
   "source": [
    "def numeric_classification(column_val):\n",
    "    #\n",
    "    # Simply reclassify all yes/no (or \"change/no\") variables as numerics\n",
    "    #\n",
    "    if column_val == 'No':\n",
    "        return 0\n",
    "    else:\n",
    "        return 1"
   ]
  },
  {
   "cell_type": "markdown",
   "metadata": {},
   "source": [
    "## READ IN DATA\n",
    "Read dataset and immediately drop fields that are mostly unpopulated."
   ]
  },
  {
   "cell_type": "code",
   "execution_count": 149,
   "metadata": {
    "collapsed": false
   },
   "outputs": [],
   "source": [
    "df = pd.read_csv('diabetic_data.csv')\n",
    "\n",
    "# Drop unnecessary columns\n",
    "\n",
    "# Payer code and weight are mostly unreported and thus cannot provide useful data\n",
    "del df['payer_code']\n",
    "del df['weight']\n"
   ]
  },
  {
   "cell_type": "code",
   "execution_count": 150,
   "metadata": {
    "collapsed": false,
    "scrolled": true
   },
   "outputs": [
    {
     "data": {
      "text/html": [
       "<div>\n",
       "<table border=\"1\" class=\"dataframe\">\n",
       "  <thead>\n",
       "    <tr style=\"text-align: right;\">\n",
       "      <th></th>\n",
       "      <th>encounter_id</th>\n",
       "      <th>patient_nbr</th>\n",
       "      <th>race</th>\n",
       "      <th>gender</th>\n",
       "      <th>age</th>\n",
       "      <th>admission_type_id</th>\n",
       "      <th>discharge_disposition_id</th>\n",
       "      <th>admission_source_id</th>\n",
       "      <th>time_in_hospital</th>\n",
       "      <th>medical_specialty</th>\n",
       "      <th>...</th>\n",
       "      <th>citoglipton</th>\n",
       "      <th>insulin</th>\n",
       "      <th>glyburide-metformin</th>\n",
       "      <th>glipizide-metformin</th>\n",
       "      <th>glimepiride-pioglitazone</th>\n",
       "      <th>metformin-rosiglitazone</th>\n",
       "      <th>metformin-pioglitazone</th>\n",
       "      <th>change</th>\n",
       "      <th>diabetesMed</th>\n",
       "      <th>readmitted</th>\n",
       "    </tr>\n",
       "  </thead>\n",
       "  <tbody>\n",
       "    <tr>\n",
       "      <th>0</th>\n",
       "      <td>2278392</td>\n",
       "      <td>8222157</td>\n",
       "      <td>Caucasian</td>\n",
       "      <td>Female</td>\n",
       "      <td>[0-10)</td>\n",
       "      <td>6</td>\n",
       "      <td>25</td>\n",
       "      <td>1</td>\n",
       "      <td>1</td>\n",
       "      <td>Pediatrics-Endocrinology</td>\n",
       "      <td>...</td>\n",
       "      <td>No</td>\n",
       "      <td>No</td>\n",
       "      <td>No</td>\n",
       "      <td>No</td>\n",
       "      <td>No</td>\n",
       "      <td>No</td>\n",
       "      <td>No</td>\n",
       "      <td>No</td>\n",
       "      <td>No</td>\n",
       "      <td>NO</td>\n",
       "    </tr>\n",
       "    <tr>\n",
       "      <th>1</th>\n",
       "      <td>149190</td>\n",
       "      <td>55629189</td>\n",
       "      <td>Caucasian</td>\n",
       "      <td>Female</td>\n",
       "      <td>[10-20)</td>\n",
       "      <td>1</td>\n",
       "      <td>1</td>\n",
       "      <td>7</td>\n",
       "      <td>3</td>\n",
       "      <td>?</td>\n",
       "      <td>...</td>\n",
       "      <td>No</td>\n",
       "      <td>Up</td>\n",
       "      <td>No</td>\n",
       "      <td>No</td>\n",
       "      <td>No</td>\n",
       "      <td>No</td>\n",
       "      <td>No</td>\n",
       "      <td>Ch</td>\n",
       "      <td>Yes</td>\n",
       "      <td>&gt;30</td>\n",
       "    </tr>\n",
       "    <tr>\n",
       "      <th>2</th>\n",
       "      <td>64410</td>\n",
       "      <td>86047875</td>\n",
       "      <td>AfricanAmerican</td>\n",
       "      <td>Female</td>\n",
       "      <td>[20-30)</td>\n",
       "      <td>1</td>\n",
       "      <td>1</td>\n",
       "      <td>7</td>\n",
       "      <td>2</td>\n",
       "      <td>?</td>\n",
       "      <td>...</td>\n",
       "      <td>No</td>\n",
       "      <td>No</td>\n",
       "      <td>No</td>\n",
       "      <td>No</td>\n",
       "      <td>No</td>\n",
       "      <td>No</td>\n",
       "      <td>No</td>\n",
       "      <td>No</td>\n",
       "      <td>Yes</td>\n",
       "      <td>NO</td>\n",
       "    </tr>\n",
       "    <tr>\n",
       "      <th>3</th>\n",
       "      <td>500364</td>\n",
       "      <td>82442376</td>\n",
       "      <td>Caucasian</td>\n",
       "      <td>Male</td>\n",
       "      <td>[30-40)</td>\n",
       "      <td>1</td>\n",
       "      <td>1</td>\n",
       "      <td>7</td>\n",
       "      <td>2</td>\n",
       "      <td>?</td>\n",
       "      <td>...</td>\n",
       "      <td>No</td>\n",
       "      <td>Up</td>\n",
       "      <td>No</td>\n",
       "      <td>No</td>\n",
       "      <td>No</td>\n",
       "      <td>No</td>\n",
       "      <td>No</td>\n",
       "      <td>Ch</td>\n",
       "      <td>Yes</td>\n",
       "      <td>NO</td>\n",
       "    </tr>\n",
       "    <tr>\n",
       "      <th>4</th>\n",
       "      <td>16680</td>\n",
       "      <td>42519267</td>\n",
       "      <td>Caucasian</td>\n",
       "      <td>Male</td>\n",
       "      <td>[40-50)</td>\n",
       "      <td>1</td>\n",
       "      <td>1</td>\n",
       "      <td>7</td>\n",
       "      <td>1</td>\n",
       "      <td>?</td>\n",
       "      <td>...</td>\n",
       "      <td>No</td>\n",
       "      <td>Steady</td>\n",
       "      <td>No</td>\n",
       "      <td>No</td>\n",
       "      <td>No</td>\n",
       "      <td>No</td>\n",
       "      <td>No</td>\n",
       "      <td>Ch</td>\n",
       "      <td>Yes</td>\n",
       "      <td>NO</td>\n",
       "    </tr>\n",
       "  </tbody>\n",
       "</table>\n",
       "<p>5 rows × 48 columns</p>\n",
       "</div>"
      ],
      "text/plain": [
       "   encounter_id  patient_nbr             race  gender      age  \\\n",
       "0       2278392      8222157        Caucasian  Female   [0-10)   \n",
       "1        149190     55629189        Caucasian  Female  [10-20)   \n",
       "2         64410     86047875  AfricanAmerican  Female  [20-30)   \n",
       "3        500364     82442376        Caucasian    Male  [30-40)   \n",
       "4         16680     42519267        Caucasian    Male  [40-50)   \n",
       "\n",
       "   admission_type_id  discharge_disposition_id  admission_source_id  \\\n",
       "0                  6                        25                    1   \n",
       "1                  1                         1                    7   \n",
       "2                  1                         1                    7   \n",
       "3                  1                         1                    7   \n",
       "4                  1                         1                    7   \n",
       "\n",
       "   time_in_hospital         medical_specialty     ...      citoglipton  \\\n",
       "0                 1  Pediatrics-Endocrinology     ...               No   \n",
       "1                 3                         ?     ...               No   \n",
       "2                 2                         ?     ...               No   \n",
       "3                 2                         ?     ...               No   \n",
       "4                 1                         ?     ...               No   \n",
       "\n",
       "   insulin  glyburide-metformin  glipizide-metformin  \\\n",
       "0       No                   No                   No   \n",
       "1       Up                   No                   No   \n",
       "2       No                   No                   No   \n",
       "3       Up                   No                   No   \n",
       "4   Steady                   No                   No   \n",
       "\n",
       "   glimepiride-pioglitazone  metformin-rosiglitazone metformin-pioglitazone  \\\n",
       "0                        No                       No                     No   \n",
       "1                        No                       No                     No   \n",
       "2                        No                       No                     No   \n",
       "3                        No                       No                     No   \n",
       "4                        No                       No                     No   \n",
       "\n",
       "  change diabetesMed  readmitted  \n",
       "0     No          No          NO  \n",
       "1     Ch         Yes         >30  \n",
       "2     No         Yes          NO  \n",
       "3     Ch         Yes          NO  \n",
       "4     Ch         Yes          NO  \n",
       "\n",
       "[5 rows x 48 columns]"
      ]
     },
     "execution_count": 150,
     "metadata": {},
     "output_type": "execute_result"
    }
   ],
   "source": [
    "df.head()"
   ]
  },
  {
   "cell_type": "markdown",
   "metadata": {},
   "source": [
    "## CLEAN/CLASSIFY THE DATA\n",
    "### Simple variables\n",
    "Age, readmit status (the target) and all the yes/no fields (mostly medications administered) are relatively simple. functions to help do this were included above."
   ]
  },
  {
   "cell_type": "code",
   "execution_count": 151,
   "metadata": {
    "collapsed": false
   },
   "outputs": [
    {
     "data": {
      "text/plain": [
       "0    54711\n",
       "1    47055\n",
       "Name: gender, dtype: int64"
      ]
     },
     "execution_count": 151,
     "metadata": {},
     "output_type": "execute_result"
    }
   ],
   "source": [
    "# Assign numeric age groups then drop age column\n",
    "df['age_group'] = df['age'].apply(age_group_classify)\n",
    "del df['age']\n",
    "\n",
    "# Assign numeric readmit classifier then drop readmitted column\n",
    "df['readmit'] = df['readmitted'].apply(readmit_group_classify)\n",
    "del df['readmitted']\n",
    "\n",
    "# Assign numeric value for yes/no and a few other situations\n",
    "values_map = {'No': 0, 'Yes': 1, 'Ch': 1, 'Down': 1, 'Steady': 2, 'Up': 3, 'Female': 0, 'Male': 1, 'Unknown/Invalid': 0}\n",
    "df = df.replace(values_map)\n",
    "\n",
    "df.gender.value_counts()"
   ]
  },
  {
   "cell_type": "markdown",
   "metadata": {},
   "source": [
    "### Build classifier for race"
   ]
  },
  {
   "cell_type": "code",
   "execution_count": 152,
   "metadata": {
    "collapsed": false
   },
   "outputs": [
    {
     "data": {
      "text/plain": [
       "Caucasian          76099\n",
       "AfricanAmerican    19210\n",
       "?                   2273\n",
       "Hispanic            2037\n",
       "Other               1506\n",
       "Asian                641\n",
       "Name: race, dtype: int64"
      ]
     },
     "execution_count": 152,
     "metadata": {},
     "output_type": "execute_result"
    }
   ],
   "source": [
    "# Got to do something about race. Not always politically correct, but need to\n",
    "# But first what are they?\n",
    "\n",
    "df.race.value_counts()"
   ]
  },
  {
   "cell_type": "code",
   "execution_count": 153,
   "metadata": {
    "collapsed": false,
    "scrolled": true
   },
   "outputs": [],
   "source": [
    "# Now replace race with a numeric as well.\n",
    "# A bit out of sequence, I wrote the above function after the first bit of analysis\n",
    "\n",
    "df.race = df.race.apply(race_classify)"
   ]
  },
  {
   "cell_type": "markdown",
   "metadata": {},
   "source": [
    "### Build classifier for max glucose\n",
    "Deal with max_glu_serum (usually blank)\n",
    "Most patients will not have a fasting glucose test, but where it happens and the result is elevated, it may be of interest. For simplicity, going to classify those situations where it is measured and elevated as a 1, all other conditions as 0.\n",
    "\n",
    "_(__Note to self__: The fact that the MD wanted it done in the first place may be a relevant indicator regardless of result, as it suggests the the MD saw something in the patient's history or condition that is not captured in this dataset. But as the purpose here is to evaluate known facts not the MD's thought process, we'll only look at the serum level when it is measured. However, this is an interesting thing to look at in the future if the data can be gathered.)_"
   ]
  },
  {
   "cell_type": "code",
   "execution_count": 154,
   "metadata": {
    "collapsed": false
   },
   "outputs": [
    {
     "data": {
      "text/plain": [
       "None    96420\n",
       "Norm     2597\n",
       ">200     1485\n",
       ">300     1264\n",
       "Name: max_glu_serum, dtype: int64"
      ]
     },
     "execution_count": 154,
     "metadata": {},
     "output_type": "execute_result"
    }
   ],
   "source": [
    "# Get a look at the values in that field\n",
    "\n",
    "df.max_glu_serum.value_counts()"
   ]
  },
  {
   "cell_type": "code",
   "execution_count": 155,
   "metadata": {
    "collapsed": false,
    "scrolled": true
   },
   "outputs": [
    {
     "data": {
      "text/plain": [
       "0    99017\n",
       "1     2749\n",
       "Name: max_glu_serum, dtype: int64"
      ]
     },
     "execution_count": 155,
     "metadata": {},
     "output_type": "execute_result"
    }
   ],
   "source": [
    "# Going to use \"none\" and \"normal\" as the zero bucket. Going to simplify at this point and make it 1\n",
    "# if there is a significantly elevated level (>200) and ignore for now the distinction between\n",
    "# > 200 and > 300 Possibly come back to this\n",
    "\n",
    "df.max_glu_serum = [1 if ((row == '>200') | (row == '>300')) else 0 for row in df.max_glu_serum]\n",
    "df.max_glu_serum.value_counts()"
   ]
  },
  {
   "cell_type": "markdown",
   "metadata": {},
   "source": [
    "### Classifier for A1C\n",
    "This one is similar in most ways to the previous one and will be handled similarly. If it's measured and elevated, it will be classified as a 1, otherwise 0."
   ]
  },
  {
   "cell_type": "code",
   "execution_count": 156,
   "metadata": {
    "collapsed": false,
    "scrolled": true
   },
   "outputs": [
    {
     "data": {
      "text/plain": [
       "None    84748\n",
       ">8       8216\n",
       "Norm     4990\n",
       ">7       3812\n",
       "Name: A1Cresult, dtype: int64"
      ]
     },
     "execution_count": 156,
     "metadata": {},
     "output_type": "execute_result"
    }
   ],
   "source": [
    "# Same for A1C.\n",
    "# Where it exists and is elevated, it matters, otherwise it does not.\n",
    "\n",
    "df.A1Cresult.value_counts()"
   ]
  },
  {
   "cell_type": "code",
   "execution_count": 157,
   "metadata": {
    "collapsed": false
   },
   "outputs": [
    {
     "data": {
      "text/plain": [
       "0    89738\n",
       "1    12028\n",
       "Name: A1Cresult, dtype: int64"
      ]
     },
     "execution_count": 157,
     "metadata": {},
     "output_type": "execute_result"
    }
   ],
   "source": [
    "df.A1Cresult = [1 if ((row == '>7') | (row == '>8')) else 0 for row in df.A1Cresult]\n",
    "df.A1Cresult.value_counts()"
   ]
  },
  {
   "cell_type": "markdown",
   "metadata": {},
   "source": [
    "### Medical Specialty\n",
    "Have a look at this one. Per the documentation of the dataset, it's mostly empty and appears to be fairly inconsistent."
   ]
  },
  {
   "cell_type": "code",
   "execution_count": 158,
   "metadata": {
    "collapsed": false,
    "scrolled": false
   },
   "outputs": [
    {
     "data": {
      "text/plain": [
       "?                                    49949\n",
       "InternalMedicine                     14635\n",
       "Emergency/Trauma                      7565\n",
       "Family/GeneralPractice                7440\n",
       "Cardiology                            5352\n",
       "Surgery-General                       3099\n",
       "Nephrology                            1613\n",
       "Orthopedics                           1400\n",
       "Orthopedics-Reconstructive            1233\n",
       "Radiologist                           1140\n",
       "Pulmonology                            871\n",
       "Psychiatry                             854\n",
       "Urology                                685\n",
       "ObstetricsandGynecology                671\n",
       "Surgery-Cardiovascular/Thoracic        652\n",
       "Gastroenterology                       564\n",
       "Surgery-Vascular                       533\n",
       "Surgery-Neuro                          468\n",
       "PhysicalMedicineandRehabilitation      391\n",
       "Oncology                               348\n",
       "Pediatrics                             254\n",
       "Hematology/Oncology                    207\n",
       "Neurology                              203\n",
       "Pediatrics-Endocrinology               159\n",
       "Otolaryngology                         125\n",
       "Endocrinology                          120\n",
       "Surgery-Thoracic                       109\n",
       "Psychology                             101\n",
       "Podiatry                               100\n",
       "Surgery-Cardiovascular                  98\n",
       "                                     ...  \n",
       "Anesthesiology-Pediatric                19\n",
       "Obstetrics                              19\n",
       "Rheumatology                            17\n",
       "Pathology                               17\n",
       "Anesthesiology                          12\n",
       "OutreachServices                        12\n",
       "PhysicianNotFound                       11\n",
       "Surgery-Colon&Rectal                    11\n",
       "Surgery-Maxillofacial                   11\n",
       "Pediatrics-Neurology                    10\n",
       "Endocrinology-Metabolism                 8\n",
       "Surgery-Pediatric                        8\n",
       "AllergyandImmunology                     7\n",
       "Cardiology-Pediatric                     7\n",
       "Psychiatry-Child/Adolescent              7\n",
       "DCPTEAM                                  6\n",
       "Pediatrics-Hematology-Oncology           4\n",
       "Dentistry                                4\n",
       "Pediatrics-EmergencyMedicine             3\n",
       "Pediatrics-AllergyandImmunology          3\n",
       "Resident                                 2\n",
       "Proctology                               1\n",
       "Perinatology                             1\n",
       "Pediatrics-InfectiousDiseases            1\n",
       "Surgery-PlasticwithinHeadandNeck         1\n",
       "Dermatology                              1\n",
       "Speech                                   1\n",
       "SportsMedicine                           1\n",
       "Psychiatry-Addictive                     1\n",
       "Neurophysiology                          1\n",
       "Name: medical_specialty, dtype: int64"
      ]
     },
     "execution_count": 158,
     "metadata": {},
     "output_type": "execute_result"
    }
   ],
   "source": [
    "# Examine medical specialty, it seems to be mostly blank\n",
    "df.medical_specialty.value_counts()"
   ]
  },
  {
   "cell_type": "code",
   "execution_count": 159,
   "metadata": {
    "collapsed": false
   },
   "outputs": [
    {
     "data": {
      "text/plain": [
       "73"
      ]
     },
     "execution_count": 159,
     "metadata": {},
     "output_type": "execute_result"
    }
   ],
   "source": [
    "df['medical_specialty'].nunique()"
   ]
  },
  {
   "cell_type": "markdown",
   "metadata": {},
   "source": [
    "### Drop medical specialty column\n",
    "Decision is to drop medical specialty as a column. While this seems like it might be useful information, the reality is that we don't have it half the time. Where it is available, it is completely unstructured and may reflect differences in reporting this information by different hospitals. The vast bulk of the categories available account for less than 1% of cases. In some cases multiple specialities are combined and done so in different ways. It is not clear from the data whether this information reflects multiple physicians, multiple specialties or some other cases. Given this, it would be unreasonable to draw conclusions from this information.\n",
    "\n",
    "This data might be more useful if a clinical specialist could provide insight into how to better lump them into broad categories, but such an effort is beyond the scope of this project."
   ]
  },
  {
   "cell_type": "code",
   "execution_count": 160,
   "metadata": {
    "collapsed": false
   },
   "outputs": [
    {
     "data": {
      "text/html": [
       "<div>\n",
       "<table border=\"1\" class=\"dataframe\">\n",
       "  <thead>\n",
       "    <tr style=\"text-align: right;\">\n",
       "      <th></th>\n",
       "      <th>encounter_id</th>\n",
       "      <th>patient_nbr</th>\n",
       "      <th>race</th>\n",
       "      <th>gender</th>\n",
       "      <th>admission_type_id</th>\n",
       "      <th>discharge_disposition_id</th>\n",
       "      <th>admission_source_id</th>\n",
       "      <th>time_in_hospital</th>\n",
       "      <th>num_lab_procedures</th>\n",
       "      <th>num_procedures</th>\n",
       "      <th>...</th>\n",
       "      <th>insulin</th>\n",
       "      <th>glyburide-metformin</th>\n",
       "      <th>glipizide-metformin</th>\n",
       "      <th>glimepiride-pioglitazone</th>\n",
       "      <th>metformin-rosiglitazone</th>\n",
       "      <th>metformin-pioglitazone</th>\n",
       "      <th>change</th>\n",
       "      <th>diabetesMed</th>\n",
       "      <th>age_group</th>\n",
       "      <th>readmit</th>\n",
       "    </tr>\n",
       "  </thead>\n",
       "  <tbody>\n",
       "    <tr>\n",
       "      <th>0</th>\n",
       "      <td>2278392</td>\n",
       "      <td>8222157</td>\n",
       "      <td>1</td>\n",
       "      <td>0</td>\n",
       "      <td>6</td>\n",
       "      <td>25</td>\n",
       "      <td>1</td>\n",
       "      <td>1</td>\n",
       "      <td>41</td>\n",
       "      <td>0</td>\n",
       "      <td>...</td>\n",
       "      <td>0</td>\n",
       "      <td>0</td>\n",
       "      <td>0</td>\n",
       "      <td>0</td>\n",
       "      <td>0</td>\n",
       "      <td>0</td>\n",
       "      <td>0</td>\n",
       "      <td>0</td>\n",
       "      <td>0</td>\n",
       "      <td>0</td>\n",
       "    </tr>\n",
       "    <tr>\n",
       "      <th>1</th>\n",
       "      <td>149190</td>\n",
       "      <td>55629189</td>\n",
       "      <td>1</td>\n",
       "      <td>0</td>\n",
       "      <td>1</td>\n",
       "      <td>1</td>\n",
       "      <td>7</td>\n",
       "      <td>3</td>\n",
       "      <td>59</td>\n",
       "      <td>0</td>\n",
       "      <td>...</td>\n",
       "      <td>3</td>\n",
       "      <td>0</td>\n",
       "      <td>0</td>\n",
       "      <td>0</td>\n",
       "      <td>0</td>\n",
       "      <td>0</td>\n",
       "      <td>1</td>\n",
       "      <td>1</td>\n",
       "      <td>1</td>\n",
       "      <td>0</td>\n",
       "    </tr>\n",
       "    <tr>\n",
       "      <th>2</th>\n",
       "      <td>64410</td>\n",
       "      <td>86047875</td>\n",
       "      <td>2</td>\n",
       "      <td>0</td>\n",
       "      <td>1</td>\n",
       "      <td>1</td>\n",
       "      <td>7</td>\n",
       "      <td>2</td>\n",
       "      <td>11</td>\n",
       "      <td>5</td>\n",
       "      <td>...</td>\n",
       "      <td>0</td>\n",
       "      <td>0</td>\n",
       "      <td>0</td>\n",
       "      <td>0</td>\n",
       "      <td>0</td>\n",
       "      <td>0</td>\n",
       "      <td>0</td>\n",
       "      <td>1</td>\n",
       "      <td>2</td>\n",
       "      <td>0</td>\n",
       "    </tr>\n",
       "    <tr>\n",
       "      <th>3</th>\n",
       "      <td>500364</td>\n",
       "      <td>82442376</td>\n",
       "      <td>1</td>\n",
       "      <td>1</td>\n",
       "      <td>1</td>\n",
       "      <td>1</td>\n",
       "      <td>7</td>\n",
       "      <td>2</td>\n",
       "      <td>44</td>\n",
       "      <td>1</td>\n",
       "      <td>...</td>\n",
       "      <td>3</td>\n",
       "      <td>0</td>\n",
       "      <td>0</td>\n",
       "      <td>0</td>\n",
       "      <td>0</td>\n",
       "      <td>0</td>\n",
       "      <td>1</td>\n",
       "      <td>1</td>\n",
       "      <td>3</td>\n",
       "      <td>0</td>\n",
       "    </tr>\n",
       "    <tr>\n",
       "      <th>4</th>\n",
       "      <td>16680</td>\n",
       "      <td>42519267</td>\n",
       "      <td>1</td>\n",
       "      <td>1</td>\n",
       "      <td>1</td>\n",
       "      <td>1</td>\n",
       "      <td>7</td>\n",
       "      <td>1</td>\n",
       "      <td>51</td>\n",
       "      <td>0</td>\n",
       "      <td>...</td>\n",
       "      <td>2</td>\n",
       "      <td>0</td>\n",
       "      <td>0</td>\n",
       "      <td>0</td>\n",
       "      <td>0</td>\n",
       "      <td>0</td>\n",
       "      <td>1</td>\n",
       "      <td>1</td>\n",
       "      <td>4</td>\n",
       "      <td>0</td>\n",
       "    </tr>\n",
       "  </tbody>\n",
       "</table>\n",
       "<p>5 rows × 47 columns</p>\n",
       "</div>"
      ],
      "text/plain": [
       "   encounter_id  patient_nbr  race  gender  admission_type_id  \\\n",
       "0       2278392      8222157     1       0                  6   \n",
       "1        149190     55629189     1       0                  1   \n",
       "2         64410     86047875     2       0                  1   \n",
       "3        500364     82442376     1       1                  1   \n",
       "4         16680     42519267     1       1                  1   \n",
       "\n",
       "   discharge_disposition_id  admission_source_id  time_in_hospital  \\\n",
       "0                        25                    1                 1   \n",
       "1                         1                    7                 3   \n",
       "2                         1                    7                 2   \n",
       "3                         1                    7                 2   \n",
       "4                         1                    7                 1   \n",
       "\n",
       "   num_lab_procedures  num_procedures   ...     insulin  glyburide-metformin  \\\n",
       "0                  41               0   ...           0                    0   \n",
       "1                  59               0   ...           3                    0   \n",
       "2                  11               5   ...           0                    0   \n",
       "3                  44               1   ...           3                    0   \n",
       "4                  51               0   ...           2                    0   \n",
       "\n",
       "   glipizide-metformin  glimepiride-pioglitazone metformin-rosiglitazone  \\\n",
       "0                    0                         0                       0   \n",
       "1                    0                         0                       0   \n",
       "2                    0                         0                       0   \n",
       "3                    0                         0                       0   \n",
       "4                    0                         0                       0   \n",
       "\n",
       "  metformin-pioglitazone change  diabetesMed  age_group  readmit  \n",
       "0                      0      0            0          0        0  \n",
       "1                      0      1            1          1        0  \n",
       "2                      0      0            1          2        0  \n",
       "3                      0      1            1          3        0  \n",
       "4                      0      1            1          4        0  \n",
       "\n",
       "[5 rows x 47 columns]"
      ]
     },
     "execution_count": 160,
     "metadata": {},
     "output_type": "execute_result"
    }
   ],
   "source": [
    "del df['medical_specialty']\n",
    "df.head()"
   ]
  },
  {
   "cell_type": "markdown",
   "metadata": {},
   "source": [
    "## DIAGNOSTIC CODE EXPLORATION / CLASSIFICATION"
   ]
  },
  {
   "cell_type": "markdown",
   "metadata": {},
   "source": [
    "Diagnostic codes are provided in three columns, each containing a diagnostic code. A patient may have only one, or may have all three. In fact, there may be more associated with the original patient record that are not available to us.\n",
    "\n",
    "Given the large number of diagnostic codes (882), most of which are used for only a single patient, it makes little sense to look at all of them. We'll focus the attention (for now anyway) on the most common ones, that are used in at least 3% of all records."
   ]
  },
  {
   "cell_type": "markdown",
   "metadata": {},
   "source": [
    "### Explore the diagnostic code data in all three fields\n",
    "\n",
    "Get an idea of how common some of these codes are, whether they exist in more than one column, etc."
   ]
  },
  {
   "cell_type": "code",
   "execution_count": 161,
   "metadata": {
    "collapsed": false,
    "scrolled": true
   },
   "outputs": [
    {
     "name": "stdout",
     "output_type": "stream",
     "text": [
      "717\n"
     ]
    },
    {
     "data": {
      "text/plain": [
       "428       6862\n",
       "414       6581\n",
       "786       4016\n",
       "410       3614\n",
       "486       3508\n",
       "427       2766\n",
       "491       2275\n",
       "715       2151\n",
       "682       2042\n",
       "434       2028\n",
       "780       2019\n",
       "996       1967\n",
       "276       1889\n",
       "38        1688\n",
       "250.8     1680\n",
       "599       1595\n",
       "584       1520\n",
       "V57       1207\n",
       "250.6     1183\n",
       "518       1115\n",
       "820       1082\n",
       "577       1057\n",
       "493       1056\n",
       "435       1016\n",
       "562        989\n",
       "574        965\n",
       "296        896\n",
       "560        876\n",
       "250.7      871\n",
       "250.13     851\n",
       "          ... \n",
       "84           1\n",
       "57           1\n",
       "791          1\n",
       "832          1\n",
       "318          1\n",
       "365          1\n",
       "523          1\n",
       "649          1\n",
       "133          1\n",
       "363          1\n",
       "160          1\n",
       "114          1\n",
       "957          1\n",
       "955          1\n",
       "885          1\n",
       "10           1\n",
       "804          1\n",
       "E909         1\n",
       "837          1\n",
       "V07          1\n",
       "412          1\n",
       "870          1\n",
       "839          1\n",
       "V70          1\n",
       "637          1\n",
       "838          1\n",
       "982          1\n",
       "834          1\n",
       "817          1\n",
       "314          1\n",
       "Name: diag_1, dtype: int64"
      ]
     },
     "execution_count": 161,
     "metadata": {},
     "output_type": "execute_result"
    }
   ],
   "source": [
    "print df.diag_1.nunique()\n",
    "df.diag_1.value_counts()"
   ]
  },
  {
   "cell_type": "code",
   "execution_count": 162,
   "metadata": {
    "collapsed": false,
    "scrolled": true
   },
   "outputs": [
    {
     "name": "stdout",
     "output_type": "stream",
     "text": [
      "749\n"
     ]
    },
    {
     "data": {
      "text/plain": [
       "276       6752\n",
       "428       6662\n",
       "250       6071\n",
       "427       5036\n",
       "401       3736\n",
       "496       3305\n",
       "599       3288\n",
       "403       2823\n",
       "414       2650\n",
       "411       2566\n",
       "250.02    2074\n",
       "707       1999\n",
       "585       1871\n",
       "584       1649\n",
       "491       1545\n",
       "250.01    1523\n",
       "285       1520\n",
       "780       1491\n",
       "425       1434\n",
       "682       1433\n",
       "486       1379\n",
       "518       1355\n",
       "424       1071\n",
       "413       1042\n",
       "250.6      895\n",
       "493        881\n",
       "305        702\n",
       "786        644\n",
       "280        606\n",
       "998        571\n",
       "          ... \n",
       "353          1\n",
       "350          1\n",
       "140          1\n",
       "145          1\n",
       "V60          1\n",
       "232          1\n",
       "235          1\n",
       "V69          1\n",
       "325          1\n",
       "523          1\n",
       "927          1\n",
       "832          1\n",
       "843          1\n",
       "948          1\n",
       "947          1\n",
       "846          1\n",
       "944          1\n",
       "912          1\n",
       "917          1\n",
       "915          1\n",
       "674          1\n",
       "670          1\n",
       "212          1\n",
       "942          1\n",
       "580          1\n",
       "E890         1\n",
       "E929         1\n",
       "529          1\n",
       "833          1\n",
       "270          1\n",
       "Name: diag_2, dtype: int64"
      ]
     },
     "execution_count": 162,
     "metadata": {},
     "output_type": "execute_result"
    }
   ],
   "source": [
    "print df.diag_2.nunique()\n",
    "df.diag_2.value_counts()"
   ]
  },
  {
   "cell_type": "code",
   "execution_count": 163,
   "metadata": {
    "collapsed": false,
    "scrolled": true
   },
   "outputs": [
    {
     "name": "stdout",
     "output_type": "stream",
     "text": [
      "790\n"
     ]
    },
    {
     "data": {
      "text/plain": [
       "250       11555\n",
       "401        8289\n",
       "276        5175\n",
       "428        4577\n",
       "427        3955\n",
       "414        3664\n",
       "496        2605\n",
       "403        2357\n",
       "585        1992\n",
       "272        1969\n",
       "599        1941\n",
       "?          1423\n",
       "V45        1389\n",
       "250.02     1369\n",
       "707        1360\n",
       "780        1334\n",
       "285        1200\n",
       "425        1136\n",
       "250.6      1080\n",
       "424        1063\n",
       "584         963\n",
       "305         924\n",
       "250.01      915\n",
       "682         887\n",
       "518         854\n",
       "41          727\n",
       "493         694\n",
       "278         680\n",
       "530         625\n",
       "786         584\n",
       "          ...  \n",
       "370           1\n",
       "E876          1\n",
       "755           1\n",
       "863           1\n",
       "542           1\n",
       "E949          1\n",
       "540           1\n",
       "186           1\n",
       "226           1\n",
       "970           1\n",
       "971           1\n",
       "972           1\n",
       "E922          1\n",
       "361           1\n",
       "27            1\n",
       "57            1\n",
       "538           1\n",
       "853           1\n",
       "158           1\n",
       "811           1\n",
       "671           1\n",
       "524           1\n",
       "193           1\n",
       "195           1\n",
       "674           1\n",
       "E955          1\n",
       "893           1\n",
       "E892          1\n",
       "236           1\n",
       "E886          1\n",
       "Name: diag_3, dtype: int64"
      ]
     },
     "execution_count": 163,
     "metadata": {},
     "output_type": "execute_result"
    }
   ],
   "source": [
    "print df.diag_3.nunique()\n",
    "df.diag_3.value_counts()"
   ]
  },
  {
   "cell_type": "markdown",
   "metadata": {},
   "source": [
    "### Get a better look at the diagnostic codes, sum them up and get the most common ones.\n",
    "\n",
    "We have three diagnostic codes in three columns. It is unknown which is the most important. However, all patients have at least one. Some have three. A missing bit of data is additonal IDC codes entered in the patient's EMR that may be more important than the ones included here. As we can only speculate about what might exist in an EMR that we have no access to, we will work with the data we have."
   ]
  },
  {
   "cell_type": "code",
   "execution_count": 164,
   "metadata": {
    "collapsed": false
   },
   "outputs": [],
   "source": [
    "# Get count of the codes in the first diagnostic field and make them into a dataframe\n",
    "df_diag_count1 = df[['encounter_id', 'diag_1']].groupby('diag_1').count()\n",
    "df_diag_count1.columns = ['count1']\n",
    "df_diag_count1.index.name = ['IDC']\n",
    "\n",
    "# Get count of the codes in the second diagnostic field and make them into a dataframe\n",
    "df_diag_count2 = df[['encounter_id', 'diag_2']].groupby('diag_2').count()\n",
    "df_diag_count2.columns = ['count2']\n",
    "df_diag_count2.index.name = ['IDC']\n",
    "\n",
    "# Get count of the codes in the third diagnostic field and make them into a dataframe\n",
    "df_diag_count3 = df[['encounter_id', 'diag_3']].groupby('diag_3').count()\n",
    "df_diag_count3.columns = ['count3']\n",
    "df_diag_count3.index.name = ['IDC']"
   ]
  },
  {
   "cell_type": "code",
   "execution_count": 165,
   "metadata": {
    "collapsed": false
   },
   "outputs": [
    {
     "name": "stdout",
     "output_type": "stream",
     "text": [
      "Total number of IDC codes used in dataset: 882\n",
      "\n"
     ]
    },
    {
     "data": {
      "text/html": [
       "<div>\n",
       "<table border=\"1\" class=\"dataframe\">\n",
       "  <thead>\n",
       "    <tr style=\"text-align: right;\">\n",
       "      <th></th>\n",
       "      <th>total</th>\n",
       "    </tr>\n",
       "    <tr>\n",
       "      <th>IDC</th>\n",
       "      <th></th>\n",
       "    </tr>\n",
       "  </thead>\n",
       "  <tbody>\n",
       "    <tr>\n",
       "      <th>428</th>\n",
       "      <td>18101.0</td>\n",
       "    </tr>\n",
       "    <tr>\n",
       "      <th>276</th>\n",
       "      <td>13816.0</td>\n",
       "    </tr>\n",
       "    <tr>\n",
       "      <th>414</th>\n",
       "      <td>12895.0</td>\n",
       "    </tr>\n",
       "    <tr>\n",
       "      <th>401</th>\n",
       "      <td>12371.0</td>\n",
       "    </tr>\n",
       "    <tr>\n",
       "      <th>427</th>\n",
       "      <td>11757.0</td>\n",
       "    </tr>\n",
       "  </tbody>\n",
       "</table>\n",
       "</div>"
      ],
      "text/plain": [
       "       total\n",
       "IDC         \n",
       "428  18101.0\n",
       "276  13816.0\n",
       "414  12895.0\n",
       "401  12371.0\n",
       "427  11757.0"
      ]
     },
     "execution_count": 165,
     "metadata": {},
     "output_type": "execute_result"
    }
   ],
   "source": [
    "# Now take the counts of each IDC code from each of the columns and sum them up to yield a single\n",
    "# column with the total count for each diagnostic code\n",
    "# Start by joining the three columns on the IDC code which is the index\n",
    "# This will result in a single dataframe with three columns.\n",
    "\n",
    "df_temp = df_diag_count1.join(df_diag_count2, how = 'outer')\n",
    "df_IDC_counts = df_temp.join(df_diag_count3, how = 'outer')\n",
    "df_IDC_counts.fillna(value=0, inplace=True)\n",
    "\n",
    "# Sum the three columns into a single totals column\n",
    "# Drop the three columns and then sort on the total\n",
    "\n",
    "df_IDC_counts['total'] = df_IDC_counts['count1'] + df_IDC_counts['count2'] + df_IDC_counts['count3']\n",
    "df_IDC_counts.drop(df_IDC_counts.columns[[0, 1, 2]], axis=1, inplace=True)\n",
    "df_IDC_counts.index.name = 'IDC'\n",
    "df_IDC_counts.sort_values('total', inplace=True, ascending=False)\n",
    "\n",
    "# All encounters in this dataset have a diabetic condition, whether it appears in the three diagnostic\n",
    "# codes or not. Thus, a diabetes diagnosis (250) provides no useful information for our study. We will drop\n",
    "# those codes from our list of \"interesting\" IDC codes.\n",
    "\n",
    "df_IDC_counts = df_IDC_counts[~df_IDC_counts.index.str.contains('250')]\n",
    "print 'Total number of IDC codes used in dataset: ' + str(len(df_IDC_counts.index))\n",
    "print \\\n",
    "\n",
    "df_IDC_counts.head()"
   ]
  },
  {
   "cell_type": "code",
   "execution_count": 166,
   "metadata": {
    "collapsed": false,
    "scrolled": true
   },
   "outputs": [
    {
     "data": {
      "text/plain": [
       "['428',\n",
       " '276',\n",
       " '414',\n",
       " '401',\n",
       " '427',\n",
       " '599',\n",
       " '496',\n",
       " '403',\n",
       " '486',\n",
       " '786',\n",
       " '780',\n",
       " '491',\n",
       " '410',\n",
       " '682',\n",
       " '584',\n",
       " '585',\n",
       " '707',\n",
       " '518',\n",
       " '411',\n",
       " '285']"
      ]
     },
     "execution_count": 166,
     "metadata": {},
     "output_type": "execute_result"
    }
   ],
   "source": [
    "# Going to select the most common 20 diagnostic codes.\n",
    "# As it just so happens, this is almost exactly the number of codes that appear in at least 3% of the records\n",
    "# If this works, I may expand the analysis, but for now, looking at only the factors that apply to at least 3%\n",
    "# of the sample seems reasonable in looking for the dominant features and may even be overkill.\n",
    "#\n",
    "IDC_list = df_IDC_counts.index.tolist()[:20]\n",
    "IDC_list"
   ]
  },
  {
   "cell_type": "markdown",
   "metadata": {},
   "source": [
    "### No great surprises in the diagnoses we came up with\n",
    "For the most part, these are conditions that are consistent with or related to a diabetic condition, with various forms of heart disease, dehydration/fluid issues, and hypertension topping the list.\n",
    "\n",
    "A full description of the diagnostic codes is available at: http://www.icd9data.com/2015/Volume1/default.htm"
   ]
  },
  {
   "cell_type": "code",
   "execution_count": 167,
   "metadata": {
    "collapsed": false,
    "scrolled": false
   },
   "outputs": [],
   "source": [
    "# Now, create columns for each of these codes in the main dataframe\n",
    "# then drop the original columns containing diagnostic codes\n",
    "\n",
    "for i in IDC_list:\n",
    "    df[i] = 0\n",
    "    df[i] = np.where(((df['diag_1'] == i) | \\\n",
    "                      (df['diag_2'] == i) | \\\n",
    "                      (df['diag_3'] == i)), 1, 0)\n",
    "    \n",
    "df.drop('diag_1', axis=1, inplace=True)\n",
    "df.drop('diag_2', axis=1, inplace=True)\n",
    "df.drop('diag_3', axis=1, inplace=True)"
   ]
  },
  {
   "cell_type": "code",
   "execution_count": 168,
   "metadata": {
    "collapsed": false
   },
   "outputs": [
    {
     "data": {
      "text/html": [
       "<div>\n",
       "<table border=\"1\" class=\"dataframe\">\n",
       "  <thead>\n",
       "    <tr style=\"text-align: right;\">\n",
       "      <th></th>\n",
       "      <th>race</th>\n",
       "      <th>gender</th>\n",
       "      <th>admission_type_id</th>\n",
       "      <th>discharge_disposition_id</th>\n",
       "      <th>admission_source_id</th>\n",
       "      <th>time_in_hospital</th>\n",
       "      <th>num_lab_procedures</th>\n",
       "      <th>num_procedures</th>\n",
       "      <th>num_medications</th>\n",
       "      <th>number_outpatient</th>\n",
       "      <th>...</th>\n",
       "      <th>780</th>\n",
       "      <th>491</th>\n",
       "      <th>410</th>\n",
       "      <th>682</th>\n",
       "      <th>584</th>\n",
       "      <th>585</th>\n",
       "      <th>707</th>\n",
       "      <th>518</th>\n",
       "      <th>411</th>\n",
       "      <th>285</th>\n",
       "    </tr>\n",
       "  </thead>\n",
       "  <tbody>\n",
       "    <tr>\n",
       "      <th>0</th>\n",
       "      <td>1</td>\n",
       "      <td>0</td>\n",
       "      <td>6</td>\n",
       "      <td>25</td>\n",
       "      <td>1</td>\n",
       "      <td>1</td>\n",
       "      <td>41</td>\n",
       "      <td>0</td>\n",
       "      <td>1</td>\n",
       "      <td>0</td>\n",
       "      <td>...</td>\n",
       "      <td>0</td>\n",
       "      <td>0</td>\n",
       "      <td>0</td>\n",
       "      <td>0</td>\n",
       "      <td>0</td>\n",
       "      <td>0</td>\n",
       "      <td>0</td>\n",
       "      <td>0</td>\n",
       "      <td>0</td>\n",
       "      <td>0</td>\n",
       "    </tr>\n",
       "    <tr>\n",
       "      <th>1</th>\n",
       "      <td>1</td>\n",
       "      <td>0</td>\n",
       "      <td>1</td>\n",
       "      <td>1</td>\n",
       "      <td>7</td>\n",
       "      <td>3</td>\n",
       "      <td>59</td>\n",
       "      <td>0</td>\n",
       "      <td>18</td>\n",
       "      <td>0</td>\n",
       "      <td>...</td>\n",
       "      <td>0</td>\n",
       "      <td>0</td>\n",
       "      <td>0</td>\n",
       "      <td>0</td>\n",
       "      <td>0</td>\n",
       "      <td>0</td>\n",
       "      <td>0</td>\n",
       "      <td>0</td>\n",
       "      <td>0</td>\n",
       "      <td>0</td>\n",
       "    </tr>\n",
       "    <tr>\n",
       "      <th>2</th>\n",
       "      <td>2</td>\n",
       "      <td>0</td>\n",
       "      <td>1</td>\n",
       "      <td>1</td>\n",
       "      <td>7</td>\n",
       "      <td>2</td>\n",
       "      <td>11</td>\n",
       "      <td>5</td>\n",
       "      <td>13</td>\n",
       "      <td>2</td>\n",
       "      <td>...</td>\n",
       "      <td>0</td>\n",
       "      <td>0</td>\n",
       "      <td>0</td>\n",
       "      <td>0</td>\n",
       "      <td>0</td>\n",
       "      <td>0</td>\n",
       "      <td>0</td>\n",
       "      <td>0</td>\n",
       "      <td>0</td>\n",
       "      <td>0</td>\n",
       "    </tr>\n",
       "    <tr>\n",
       "      <th>3</th>\n",
       "      <td>1</td>\n",
       "      <td>1</td>\n",
       "      <td>1</td>\n",
       "      <td>1</td>\n",
       "      <td>7</td>\n",
       "      <td>2</td>\n",
       "      <td>44</td>\n",
       "      <td>1</td>\n",
       "      <td>16</td>\n",
       "      <td>0</td>\n",
       "      <td>...</td>\n",
       "      <td>0</td>\n",
       "      <td>0</td>\n",
       "      <td>0</td>\n",
       "      <td>0</td>\n",
       "      <td>0</td>\n",
       "      <td>0</td>\n",
       "      <td>0</td>\n",
       "      <td>0</td>\n",
       "      <td>0</td>\n",
       "      <td>0</td>\n",
       "    </tr>\n",
       "    <tr>\n",
       "      <th>4</th>\n",
       "      <td>1</td>\n",
       "      <td>1</td>\n",
       "      <td>1</td>\n",
       "      <td>1</td>\n",
       "      <td>7</td>\n",
       "      <td>1</td>\n",
       "      <td>51</td>\n",
       "      <td>0</td>\n",
       "      <td>8</td>\n",
       "      <td>0</td>\n",
       "      <td>...</td>\n",
       "      <td>0</td>\n",
       "      <td>0</td>\n",
       "      <td>0</td>\n",
       "      <td>0</td>\n",
       "      <td>0</td>\n",
       "      <td>0</td>\n",
       "      <td>0</td>\n",
       "      <td>0</td>\n",
       "      <td>0</td>\n",
       "      <td>0</td>\n",
       "    </tr>\n",
       "  </tbody>\n",
       "</table>\n",
       "<p>5 rows × 62 columns</p>\n",
       "</div>"
      ],
      "text/plain": [
       "   race  gender  admission_type_id  discharge_disposition_id  \\\n",
       "0     1       0                  6                        25   \n",
       "1     1       0                  1                         1   \n",
       "2     2       0                  1                         1   \n",
       "3     1       1                  1                         1   \n",
       "4     1       1                  1                         1   \n",
       "\n",
       "   admission_source_id  time_in_hospital  num_lab_procedures  num_procedures  \\\n",
       "0                    1                 1                  41               0   \n",
       "1                    7                 3                  59               0   \n",
       "2                    7                 2                  11               5   \n",
       "3                    7                 2                  44               1   \n",
       "4                    7                 1                  51               0   \n",
       "\n",
       "   num_medications  number_outpatient ...   780  491  410  682  584  585  707  \\\n",
       "0                1                  0 ...     0    0    0    0    0    0    0   \n",
       "1               18                  0 ...     0    0    0    0    0    0    0   \n",
       "2               13                  2 ...     0    0    0    0    0    0    0   \n",
       "3               16                  0 ...     0    0    0    0    0    0    0   \n",
       "4                8                  0 ...     0    0    0    0    0    0    0   \n",
       "\n",
       "   518  411  285  \n",
       "0    0    0    0  \n",
       "1    0    0    0  \n",
       "2    0    0    0  \n",
       "3    0    0    0  \n",
       "4    0    0    0  \n",
       "\n",
       "[5 rows x 62 columns]"
      ]
     },
     "execution_count": 168,
     "metadata": {},
     "output_type": "execute_result"
    }
   ],
   "source": [
    "# Finally, now that everything is really clean, drop the encounter ID and patient #\n",
    "# Neither is going to be useful going forward.\n",
    "\n",
    "df.drop('encounter_id', axis=1, inplace=True)\n",
    "df.drop('patient_nbr', axis=1, inplace=True)\n",
    "df.head()"
   ]
  },
  {
   "cell_type": "code",
   "execution_count": 169,
   "metadata": {
    "collapsed": false
   },
   "outputs": [],
   "source": [
    "# Still seem to have some NaNs somewhere, so fix it before we write it out\n",
    "df.fillna(value=0, inplace=True)\n",
    "df.to_csv('diabetic_data_clean.csv', index=False)"
   ]
  },
  {
   "cell_type": "code",
   "execution_count": null,
   "metadata": {
    "collapsed": true
   },
   "outputs": [],
   "source": []
  }
 ],
 "metadata": {
  "anaconda-cloud": {},
  "kernelspec": {
   "display_name": "Python [conda root]",
   "language": "python",
   "name": "conda-root-py"
  },
  "language_info": {
   "codemirror_mode": {
    "name": "ipython",
    "version": 2
   },
   "file_extension": ".py",
   "mimetype": "text/x-python",
   "name": "python",
   "nbconvert_exporter": "python",
   "pygments_lexer": "ipython2",
   "version": "2.7.12"
  }
 },
 "nbformat": 4,
 "nbformat_minor": 0
}
