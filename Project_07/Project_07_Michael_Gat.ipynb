{
 "cells": [
  {
   "cell_type": "markdown",
   "metadata": {},
   "source": [
    "## Project 7\n",
    "In this project, you will implement the the clustering techniques that you've learned this week."
   ]
  },
  {
   "cell_type": "markdown",
   "metadata": {},
   "source": [
    "#### Step 1: Load the python libraries that you will need for this project"
   ]
  },
  {
   "cell_type": "code",
   "execution_count": 11,
   "metadata": {
    "collapsed": false
   },
   "outputs": [],
   "source": [
    "import pandas as pd \n",
    "import matplotlib.style\n",
    "import matplotlib.pyplot as plt\n",
    "import seaborn as sns\n",
    "import numpy as np\n",
    "\n",
    "from scipy.stats import pearsonr, normaltest\n",
    "from scipy.cluster.hierarchy import dendrogram, linkage, cophenet, fcluster\n",
    "from scipy.spatial.distance import pdist\n",
    "\n",
    "from sklearn import cluster, metrics, preprocessing, linear_model, decomposition, datasets\n",
    "from sklearn.decomposition import PCA\n",
    "from sklearn.preprocessing import LabelEncoder, StandardScaler\n",
    "from sklearn.ensemble import ExtraTreesClassifier\n",
    "from sklearn.neighbors import KNeighborsClassifier\n",
    "from sklearn.pipeline import Pipeline\n",
    "from sklearn.grid_search import GridSearchCV\n",
    "\n",
    "import warnings\n",
    "warnings.simplefilter(action = \"ignore\", category = FutureWarning) \n",
    "\n",
    "matplotlib.style.use('ggplot') \n",
    "%matplotlib inline"
   ]
  },
  {
   "cell_type": "markdown",
   "metadata": {},
   "source": [
    "#### Step 2: Examine your data"
   ]
  },
  {
   "cell_type": "code",
   "execution_count": 31,
   "metadata": {
    "collapsed": false
   },
   "outputs": [
    {
     "data": {
      "text/html": [
       "<div>\n",
       "<table border=\"1\" class=\"dataframe\">\n",
       "  <thead>\n",
       "    <tr style=\"text-align: right;\">\n",
       "      <th></th>\n",
       "      <th>airport</th>\n",
       "      <th>year</th>\n",
       "      <th>dep</th>\n",
       "      <th>arr</th>\n",
       "      <th>ot_gate_dep</th>\n",
       "      <th>ot_ap_dep</th>\n",
       "      <th>ot_gate_arr</th>\n",
       "      <th>gate_dep_del</th>\n",
       "      <th>taxi_out</th>\n",
       "      <th>taxi_out_del</th>\n",
       "      <th>ap_dep_del</th>\n",
       "      <th>in_air_del</th>\n",
       "      <th>taxi_in_del</th>\n",
       "      <th>block_del</th>\n",
       "      <th>gate_arr_del</th>\n",
       "    </tr>\n",
       "  </thead>\n",
       "  <tbody>\n",
       "    <tr>\n",
       "      <th>0</th>\n",
       "      <td>ABQ</td>\n",
       "      <td>2004</td>\n",
       "      <td>53971</td>\n",
       "      <td>53818</td>\n",
       "      <td>0.8030</td>\n",
       "      <td>0.7809</td>\n",
       "      <td>0.7921</td>\n",
       "      <td>10.38</td>\n",
       "      <td>9.89</td>\n",
       "      <td>2.43</td>\n",
       "      <td>12.10</td>\n",
       "      <td>2.46</td>\n",
       "      <td>0.83</td>\n",
       "      <td>2.55</td>\n",
       "      <td>10.87</td>\n",
       "    </tr>\n",
       "    <tr>\n",
       "      <th>1</th>\n",
       "      <td>ABQ</td>\n",
       "      <td>2005</td>\n",
       "      <td>51829</td>\n",
       "      <td>51877</td>\n",
       "      <td>0.8140</td>\n",
       "      <td>0.7922</td>\n",
       "      <td>0.8001</td>\n",
       "      <td>9.60</td>\n",
       "      <td>9.79</td>\n",
       "      <td>2.29</td>\n",
       "      <td>11.20</td>\n",
       "      <td>2.26</td>\n",
       "      <td>0.89</td>\n",
       "      <td>2.34</td>\n",
       "      <td>10.24</td>\n",
       "    </tr>\n",
       "    <tr>\n",
       "      <th>2</th>\n",
       "      <td>ABQ</td>\n",
       "      <td>2006</td>\n",
       "      <td>49682</td>\n",
       "      <td>51199</td>\n",
       "      <td>0.7983</td>\n",
       "      <td>0.7756</td>\n",
       "      <td>0.7746</td>\n",
       "      <td>10.84</td>\n",
       "      <td>9.89</td>\n",
       "      <td>2.16</td>\n",
       "      <td>12.33</td>\n",
       "      <td>2.12</td>\n",
       "      <td>0.84</td>\n",
       "      <td>2.66</td>\n",
       "      <td>11.82</td>\n",
       "    </tr>\n",
       "    <tr>\n",
       "      <th>3</th>\n",
       "      <td>ABQ</td>\n",
       "      <td>2007</td>\n",
       "      <td>53255</td>\n",
       "      <td>53611</td>\n",
       "      <td>0.8005</td>\n",
       "      <td>0.7704</td>\n",
       "      <td>0.7647</td>\n",
       "      <td>11.29</td>\n",
       "      <td>10.34</td>\n",
       "      <td>2.40</td>\n",
       "      <td>12.95</td>\n",
       "      <td>2.19</td>\n",
       "      <td>1.29</td>\n",
       "      <td>3.06</td>\n",
       "      <td>12.71</td>\n",
       "    </tr>\n",
       "    <tr>\n",
       "      <th>4</th>\n",
       "      <td>ABQ</td>\n",
       "      <td>2008</td>\n",
       "      <td>49589</td>\n",
       "      <td>49512</td>\n",
       "      <td>0.8103</td>\n",
       "      <td>0.7844</td>\n",
       "      <td>0.7875</td>\n",
       "      <td>10.79</td>\n",
       "      <td>10.41</td>\n",
       "      <td>2.41</td>\n",
       "      <td>12.32</td>\n",
       "      <td>1.82</td>\n",
       "      <td>1.03</td>\n",
       "      <td>2.79</td>\n",
       "      <td>11.48</td>\n",
       "    </tr>\n",
       "  </tbody>\n",
       "</table>\n",
       "</div>"
      ],
      "text/plain": [
       "  airport  year    dep    arr  ot_gate_dep  ot_ap_dep  ot_gate_arr  \\\n",
       "0     ABQ  2004  53971  53818       0.8030     0.7809       0.7921   \n",
       "1     ABQ  2005  51829  51877       0.8140     0.7922       0.8001   \n",
       "2     ABQ  2006  49682  51199       0.7983     0.7756       0.7746   \n",
       "3     ABQ  2007  53255  53611       0.8005     0.7704       0.7647   \n",
       "4     ABQ  2008  49589  49512       0.8103     0.7844       0.7875   \n",
       "\n",
       "   gate_dep_del  taxi_out  taxi_out_del  ap_dep_del  in_air_del  taxi_in_del  \\\n",
       "0         10.38      9.89          2.43       12.10        2.46         0.83   \n",
       "1          9.60      9.79          2.29       11.20        2.26         0.89   \n",
       "2         10.84      9.89          2.16       12.33        2.12         0.84   \n",
       "3         11.29     10.34          2.40       12.95        2.19         1.29   \n",
       "4         10.79     10.41          2.41       12.32        1.82         1.03   \n",
       "\n",
       "   block_del  gate_arr_del  \n",
       "0       2.55         10.87  \n",
       "1       2.34         10.24  \n",
       "2       2.66         11.82  \n",
       "3       3.06         12.71  \n",
       "4       2.79         11.48  "
      ]
     },
     "execution_count": 31,
     "metadata": {},
     "output_type": "execute_result"
    }
   ],
   "source": [
    "df_ops = pd.read_csv(\"assets/airport_operations.csv\")\n",
    "df_ops.dropna(inplace = True)\n",
    "df_ops.columns = ['airport','year','dep','arr','ot_gate_dep','ot_ap_dep','ot_gate_arr','gate_dep_del','taxi_out', \\\n",
    "                  'taxi_out_del','ap_dep_del','in_air_del','taxi_in_del','block_del','gate_arr_del']\n",
    "df_ops.head()"
   ]
  },
  {
   "cell_type": "code",
   "execution_count": 32,
   "metadata": {
    "collapsed": false
   },
   "outputs": [
    {
     "data": {
      "text/html": [
       "<div>\n",
       "<table border=\"1\" class=\"dataframe\">\n",
       "  <thead>\n",
       "    <tr style=\"text-align: right;\">\n",
       "      <th></th>\n",
       "      <th>airport</th>\n",
       "      <th>year</th>\n",
       "      <th>dep_cxl</th>\n",
       "      <th>arr_cxl</th>\n",
       "      <th>dep_div</th>\n",
       "      <th>arr_div</th>\n",
       "    </tr>\n",
       "  </thead>\n",
       "  <tbody>\n",
       "    <tr>\n",
       "      <th>0</th>\n",
       "      <td>ABQ</td>\n",
       "      <td>2004.0</td>\n",
       "      <td>242.0</td>\n",
       "      <td>235.0</td>\n",
       "      <td>71.0</td>\n",
       "      <td>46.0</td>\n",
       "    </tr>\n",
       "    <tr>\n",
       "      <th>1</th>\n",
       "      <td>ABQ</td>\n",
       "      <td>2005.0</td>\n",
       "      <td>221.0</td>\n",
       "      <td>190.0</td>\n",
       "      <td>61.0</td>\n",
       "      <td>33.0</td>\n",
       "    </tr>\n",
       "    <tr>\n",
       "      <th>2</th>\n",
       "      <td>ABQ</td>\n",
       "      <td>2006.0</td>\n",
       "      <td>392.0</td>\n",
       "      <td>329.0</td>\n",
       "      <td>71.0</td>\n",
       "      <td>124.0</td>\n",
       "    </tr>\n",
       "    <tr>\n",
       "      <th>3</th>\n",
       "      <td>ABQ</td>\n",
       "      <td>2007.0</td>\n",
       "      <td>366.0</td>\n",
       "      <td>304.0</td>\n",
       "      <td>107.0</td>\n",
       "      <td>45.0</td>\n",
       "    </tr>\n",
       "    <tr>\n",
       "      <th>4</th>\n",
       "      <td>ABQ</td>\n",
       "      <td>2008.0</td>\n",
       "      <td>333.0</td>\n",
       "      <td>300.0</td>\n",
       "      <td>79.0</td>\n",
       "      <td>42.0</td>\n",
       "    </tr>\n",
       "  </tbody>\n",
       "</table>\n",
       "</div>"
      ],
      "text/plain": [
       "  airport    year  dep_cxl  arr_cxl  dep_div  arr_div\n",
       "0     ABQ  2004.0    242.0    235.0     71.0     46.0\n",
       "1     ABQ  2005.0    221.0    190.0     61.0     33.0\n",
       "2     ABQ  2006.0    392.0    329.0     71.0    124.0\n",
       "3     ABQ  2007.0    366.0    304.0    107.0     45.0\n",
       "4     ABQ  2008.0    333.0    300.0     79.0     42.0"
      ]
     },
     "execution_count": 32,
     "metadata": {},
     "output_type": "execute_result"
    }
   ],
   "source": [
    "df_cxl = pd.read_csv(\"assets/airport_cancellations.csv\")\n",
    "df_cxl.dropna(inplace = True)\n",
    "df_cxl.columns = ['airport','year','dep_cxl','arr_cxl','dep_div','arr_div']\n",
    "df_cxl.head()"
   ]
  },
  {
   "cell_type": "code",
   "execution_count": 33,
   "metadata": {
    "collapsed": false,
    "scrolled": true
   },
   "outputs": [
    {
     "data": {
      "text/html": [
       "<div>\n",
       "<table border=\"1\" class=\"dataframe\">\n",
       "  <thead>\n",
       "    <tr style=\"text-align: right;\">\n",
       "      <th></th>\n",
       "      <th>airport</th>\n",
       "      <th>year</th>\n",
       "      <th>dep_cxl</th>\n",
       "      <th>arr_cxl</th>\n",
       "      <th>dep_div</th>\n",
       "      <th>arr_div</th>\n",
       "      <th>dep</th>\n",
       "      <th>arr</th>\n",
       "      <th>ot_gate_dep</th>\n",
       "      <th>ot_ap_dep</th>\n",
       "      <th>ot_gate_arr</th>\n",
       "      <th>gate_dep_del</th>\n",
       "      <th>taxi_out</th>\n",
       "      <th>taxi_out_del</th>\n",
       "      <th>ap_dep_del</th>\n",
       "      <th>in_air_del</th>\n",
       "      <th>taxi_in_del</th>\n",
       "      <th>block_del</th>\n",
       "      <th>gate_arr_del</th>\n",
       "    </tr>\n",
       "  </thead>\n",
       "  <tbody>\n",
       "    <tr>\n",
       "      <th>0</th>\n",
       "      <td>ABQ</td>\n",
       "      <td>2004.0</td>\n",
       "      <td>242.0</td>\n",
       "      <td>235.0</td>\n",
       "      <td>71.0</td>\n",
       "      <td>46.0</td>\n",
       "      <td>53971.0</td>\n",
       "      <td>53818.0</td>\n",
       "      <td>0.8030</td>\n",
       "      <td>0.7809</td>\n",
       "      <td>0.7921</td>\n",
       "      <td>10.38</td>\n",
       "      <td>9.89</td>\n",
       "      <td>2.43</td>\n",
       "      <td>12.10</td>\n",
       "      <td>2.46</td>\n",
       "      <td>0.83</td>\n",
       "      <td>2.55</td>\n",
       "      <td>10.87</td>\n",
       "    </tr>\n",
       "    <tr>\n",
       "      <th>1</th>\n",
       "      <td>ABQ</td>\n",
       "      <td>2005.0</td>\n",
       "      <td>221.0</td>\n",
       "      <td>190.0</td>\n",
       "      <td>61.0</td>\n",
       "      <td>33.0</td>\n",
       "      <td>51829.0</td>\n",
       "      <td>51877.0</td>\n",
       "      <td>0.8140</td>\n",
       "      <td>0.7922</td>\n",
       "      <td>0.8001</td>\n",
       "      <td>9.60</td>\n",
       "      <td>9.79</td>\n",
       "      <td>2.29</td>\n",
       "      <td>11.20</td>\n",
       "      <td>2.26</td>\n",
       "      <td>0.89</td>\n",
       "      <td>2.34</td>\n",
       "      <td>10.24</td>\n",
       "    </tr>\n",
       "    <tr>\n",
       "      <th>2</th>\n",
       "      <td>ABQ</td>\n",
       "      <td>2006.0</td>\n",
       "      <td>392.0</td>\n",
       "      <td>329.0</td>\n",
       "      <td>71.0</td>\n",
       "      <td>124.0</td>\n",
       "      <td>49682.0</td>\n",
       "      <td>51199.0</td>\n",
       "      <td>0.7983</td>\n",
       "      <td>0.7756</td>\n",
       "      <td>0.7746</td>\n",
       "      <td>10.84</td>\n",
       "      <td>9.89</td>\n",
       "      <td>2.16</td>\n",
       "      <td>12.33</td>\n",
       "      <td>2.12</td>\n",
       "      <td>0.84</td>\n",
       "      <td>2.66</td>\n",
       "      <td>11.82</td>\n",
       "    </tr>\n",
       "    <tr>\n",
       "      <th>3</th>\n",
       "      <td>ABQ</td>\n",
       "      <td>2007.0</td>\n",
       "      <td>366.0</td>\n",
       "      <td>304.0</td>\n",
       "      <td>107.0</td>\n",
       "      <td>45.0</td>\n",
       "      <td>53255.0</td>\n",
       "      <td>53611.0</td>\n",
       "      <td>0.8005</td>\n",
       "      <td>0.7704</td>\n",
       "      <td>0.7647</td>\n",
       "      <td>11.29</td>\n",
       "      <td>10.34</td>\n",
       "      <td>2.40</td>\n",
       "      <td>12.95</td>\n",
       "      <td>2.19</td>\n",
       "      <td>1.29</td>\n",
       "      <td>3.06</td>\n",
       "      <td>12.71</td>\n",
       "    </tr>\n",
       "    <tr>\n",
       "      <th>4</th>\n",
       "      <td>ABQ</td>\n",
       "      <td>2008.0</td>\n",
       "      <td>333.0</td>\n",
       "      <td>300.0</td>\n",
       "      <td>79.0</td>\n",
       "      <td>42.0</td>\n",
       "      <td>49589.0</td>\n",
       "      <td>49512.0</td>\n",
       "      <td>0.8103</td>\n",
       "      <td>0.7844</td>\n",
       "      <td>0.7875</td>\n",
       "      <td>10.79</td>\n",
       "      <td>10.41</td>\n",
       "      <td>2.41</td>\n",
       "      <td>12.32</td>\n",
       "      <td>1.82</td>\n",
       "      <td>1.03</td>\n",
       "      <td>2.79</td>\n",
       "      <td>11.48</td>\n",
       "    </tr>\n",
       "  </tbody>\n",
       "</table>\n",
       "</div>"
      ],
      "text/plain": [
       "  airport    year  dep_cxl  arr_cxl  dep_div  arr_div      dep      arr  \\\n",
       "0     ABQ  2004.0    242.0    235.0     71.0     46.0  53971.0  53818.0   \n",
       "1     ABQ  2005.0    221.0    190.0     61.0     33.0  51829.0  51877.0   \n",
       "2     ABQ  2006.0    392.0    329.0     71.0    124.0  49682.0  51199.0   \n",
       "3     ABQ  2007.0    366.0    304.0    107.0     45.0  53255.0  53611.0   \n",
       "4     ABQ  2008.0    333.0    300.0     79.0     42.0  49589.0  49512.0   \n",
       "\n",
       "   ot_gate_dep  ot_ap_dep  ot_gate_arr  gate_dep_del  taxi_out  taxi_out_del  \\\n",
       "0       0.8030     0.7809       0.7921         10.38      9.89          2.43   \n",
       "1       0.8140     0.7922       0.8001          9.60      9.79          2.29   \n",
       "2       0.7983     0.7756       0.7746         10.84      9.89          2.16   \n",
       "3       0.8005     0.7704       0.7647         11.29     10.34          2.40   \n",
       "4       0.8103     0.7844       0.7875         10.79     10.41          2.41   \n",
       "\n",
       "   ap_dep_del  in_air_del  taxi_in_del  block_del  gate_arr_del  \n",
       "0       12.10        2.46         0.83       2.55         10.87  \n",
       "1       11.20        2.26         0.89       2.34         10.24  \n",
       "2       12.33        2.12         0.84       2.66         11.82  \n",
       "3       12.95        2.19         1.29       3.06         12.71  \n",
       "4       12.32        1.82         1.03       2.79         11.48  "
      ]
     },
     "execution_count": 33,
     "metadata": {},
     "output_type": "execute_result"
    }
   ],
   "source": [
    "df_master = pd.merge(df_cxl, df_ops, how = 'left', on=['airport', 'year'])\n",
    "df_master.head()"
   ]
  },
  {
   "cell_type": "code",
   "execution_count": 35,
   "metadata": {
    "collapsed": false,
    "scrolled": true
   },
   "outputs": [
    {
     "data": {
      "text/plain": [
       "(805, 19)"
      ]
     },
     "execution_count": 35,
     "metadata": {},
     "output_type": "execute_result"
    }
   ],
   "source": [
    "df_master.shape"
   ]
  },
  {
   "cell_type": "code",
   "execution_count": 36,
   "metadata": {
    "collapsed": false
   },
   "outputs": [
    {
     "data": {
      "text/plain": [
       "airport         0\n",
       "year            0\n",
       "dep_cxl         0\n",
       "arr_cxl         0\n",
       "dep_div         0\n",
       "arr_div         0\n",
       "dep             6\n",
       "arr             6\n",
       "ot_gate_dep     6\n",
       "ot_ap_dep       6\n",
       "ot_gate_arr     6\n",
       "gate_dep_del    6\n",
       "taxi_out        6\n",
       "taxi_out_del    6\n",
       "ap_dep_del      6\n",
       "in_air_del      6\n",
       "taxi_in_del     6\n",
       "block_del       6\n",
       "gate_arr_del    6\n",
       "dtype: int64"
      ]
     },
     "execution_count": 36,
     "metadata": {},
     "output_type": "execute_result"
    }
   ],
   "source": [
    "df_master.isnull().sum()"
   ]
  },
  {
   "cell_type": "code",
   "execution_count": 38,
   "metadata": {
    "collapsed": false
   },
   "outputs": [
    {
     "data": {
      "text/plain": [
       "airport         0\n",
       "year            0\n",
       "dep_cxl         0\n",
       "arr_cxl         0\n",
       "dep_div         0\n",
       "arr_div         0\n",
       "dep             0\n",
       "arr             0\n",
       "ot_gate_dep     0\n",
       "ot_ap_dep       0\n",
       "ot_gate_arr     0\n",
       "gate_dep_del    0\n",
       "taxi_out        0\n",
       "taxi_out_del    0\n",
       "ap_dep_del      0\n",
       "in_air_del      0\n",
       "taxi_in_del     0\n",
       "block_del       0\n",
       "gate_arr_del    0\n",
       "dtype: int64"
      ]
     },
     "execution_count": 38,
     "metadata": {},
     "output_type": "execute_result"
    }
   ],
   "source": [
    "# I was going to do some cleanup if required, but it appears that only six airport records\n",
    "# are missing critical information, and as such decided to drop them and use the good data\n",
    "# I have available.\n",
    "\n",
    "df_master.dropna(inplace = True)\n",
    "df_master.isnull().sum()"
   ]
  },
  {
   "cell_type": "code",
   "execution_count": 40,
   "metadata": {
    "collapsed": true
   },
   "outputs": [],
   "source": [
    "# Write it out to CSV\n",
    "\n",
    "df_master.to_csv('assets/Project_07_mg_master_data.csv')"
   ]
  },
  {
   "cell_type": "markdown",
   "metadata": {},
   "source": [
    "## Intro: Write a problem statement / aim for this project"
   ]
  },
  {
   "cell_type": "markdown",
   "metadata": {},
   "source": []
  },
  {
   "cell_type": "markdown",
   "metadata": {},
   "source": [
    "## Part 1: Create a PostgreSQL database"
   ]
  },
  {
   "cell_type": "markdown",
   "metadata": {},
   "source": [
    "Did this externally. Was an interesting use of some Postgres tools that I was hoping to try out and had some mixed results before getting a good import directly to the DB. Not including it here because it was messy and very much \"figured out as I went along.\" This does not effect the rest of the project\n"
   ]
  },
  {
   "cell_type": "markdown",
   "metadata": {},
   "source": [
    "#### 6. What are the risks and assumptions of our data?"
   ]
  },
  {
   "cell_type": "markdown",
   "metadata": {},
   "source": [
    "Answer: Since we do not know the source of the data, we cannot take the data quality for granted. Any correlation / relationship that we discover upon analyzing the data may be due to a discrepency in human error. Therefore, we assume that our data is accurate."
   ]
  },
  {
   "cell_type": "markdown",
   "metadata": {},
   "source": [
    "## Part 2: Exploratory Data Analysis"
   ]
  },
  {
   "cell_type": "markdown",
   "metadata": {},
   "source": [
    "#### 2.1 Plot and Describe the Data"
   ]
  },
  {
   "cell_type": "code",
   "execution_count": 41,
   "metadata": {
    "collapsed": false
   },
   "outputs": [
    {
     "data": {
      "text/html": [
       "<div>\n",
       "<table border=\"1\" class=\"dataframe\">\n",
       "  <thead>\n",
       "    <tr style=\"text-align: right;\">\n",
       "      <th></th>\n",
       "      <th>airport</th>\n",
       "      <th>year</th>\n",
       "      <th>dep_cxl</th>\n",
       "      <th>arr_cxl</th>\n",
       "      <th>dep_div</th>\n",
       "      <th>arr_div</th>\n",
       "      <th>dep</th>\n",
       "      <th>arr</th>\n",
       "      <th>ot_gate_dep</th>\n",
       "      <th>ot_ap_dep</th>\n",
       "      <th>ot_gate_arr</th>\n",
       "      <th>gate_dep_del</th>\n",
       "      <th>taxi_out</th>\n",
       "      <th>taxi_out_del</th>\n",
       "      <th>ap_dep_del</th>\n",
       "      <th>in_air_del</th>\n",
       "      <th>taxi_in_del</th>\n",
       "      <th>block_del</th>\n",
       "      <th>gate_arr_del</th>\n",
       "    </tr>\n",
       "  </thead>\n",
       "  <tbody>\n",
       "    <tr>\n",
       "      <th>0</th>\n",
       "      <td>ABQ</td>\n",
       "      <td>2004.0</td>\n",
       "      <td>242.0</td>\n",
       "      <td>235.0</td>\n",
       "      <td>71.0</td>\n",
       "      <td>46.0</td>\n",
       "      <td>53971.0</td>\n",
       "      <td>53818.0</td>\n",
       "      <td>0.8030</td>\n",
       "      <td>0.7809</td>\n",
       "      <td>0.7921</td>\n",
       "      <td>10.38</td>\n",
       "      <td>9.89</td>\n",
       "      <td>2.43</td>\n",
       "      <td>12.10</td>\n",
       "      <td>2.46</td>\n",
       "      <td>0.83</td>\n",
       "      <td>2.55</td>\n",
       "      <td>10.87</td>\n",
       "    </tr>\n",
       "    <tr>\n",
       "      <th>1</th>\n",
       "      <td>ABQ</td>\n",
       "      <td>2005.0</td>\n",
       "      <td>221.0</td>\n",
       "      <td>190.0</td>\n",
       "      <td>61.0</td>\n",
       "      <td>33.0</td>\n",
       "      <td>51829.0</td>\n",
       "      <td>51877.0</td>\n",
       "      <td>0.8140</td>\n",
       "      <td>0.7922</td>\n",
       "      <td>0.8001</td>\n",
       "      <td>9.60</td>\n",
       "      <td>9.79</td>\n",
       "      <td>2.29</td>\n",
       "      <td>11.20</td>\n",
       "      <td>2.26</td>\n",
       "      <td>0.89</td>\n",
       "      <td>2.34</td>\n",
       "      <td>10.24</td>\n",
       "    </tr>\n",
       "    <tr>\n",
       "      <th>2</th>\n",
       "      <td>ABQ</td>\n",
       "      <td>2006.0</td>\n",
       "      <td>392.0</td>\n",
       "      <td>329.0</td>\n",
       "      <td>71.0</td>\n",
       "      <td>124.0</td>\n",
       "      <td>49682.0</td>\n",
       "      <td>51199.0</td>\n",
       "      <td>0.7983</td>\n",
       "      <td>0.7756</td>\n",
       "      <td>0.7746</td>\n",
       "      <td>10.84</td>\n",
       "      <td>9.89</td>\n",
       "      <td>2.16</td>\n",
       "      <td>12.33</td>\n",
       "      <td>2.12</td>\n",
       "      <td>0.84</td>\n",
       "      <td>2.66</td>\n",
       "      <td>11.82</td>\n",
       "    </tr>\n",
       "    <tr>\n",
       "      <th>3</th>\n",
       "      <td>ABQ</td>\n",
       "      <td>2007.0</td>\n",
       "      <td>366.0</td>\n",
       "      <td>304.0</td>\n",
       "      <td>107.0</td>\n",
       "      <td>45.0</td>\n",
       "      <td>53255.0</td>\n",
       "      <td>53611.0</td>\n",
       "      <td>0.8005</td>\n",
       "      <td>0.7704</td>\n",
       "      <td>0.7647</td>\n",
       "      <td>11.29</td>\n",
       "      <td>10.34</td>\n",
       "      <td>2.40</td>\n",
       "      <td>12.95</td>\n",
       "      <td>2.19</td>\n",
       "      <td>1.29</td>\n",
       "      <td>3.06</td>\n",
       "      <td>12.71</td>\n",
       "    </tr>\n",
       "    <tr>\n",
       "      <th>4</th>\n",
       "      <td>ABQ</td>\n",
       "      <td>2008.0</td>\n",
       "      <td>333.0</td>\n",
       "      <td>300.0</td>\n",
       "      <td>79.0</td>\n",
       "      <td>42.0</td>\n",
       "      <td>49589.0</td>\n",
       "      <td>49512.0</td>\n",
       "      <td>0.8103</td>\n",
       "      <td>0.7844</td>\n",
       "      <td>0.7875</td>\n",
       "      <td>10.79</td>\n",
       "      <td>10.41</td>\n",
       "      <td>2.41</td>\n",
       "      <td>12.32</td>\n",
       "      <td>1.82</td>\n",
       "      <td>1.03</td>\n",
       "      <td>2.79</td>\n",
       "      <td>11.48</td>\n",
       "    </tr>\n",
       "    <tr>\n",
       "      <th>5</th>\n",
       "      <td>ABQ</td>\n",
       "      <td>2009.0</td>\n",
       "      <td>192.0</td>\n",
       "      <td>162.0</td>\n",
       "      <td>74.0</td>\n",
       "      <td>26.0</td>\n",
       "      <td>42550.0</td>\n",
       "      <td>42704.0</td>\n",
       "      <td>0.8341</td>\n",
       "      <td>0.8147</td>\n",
       "      <td>0.8224</td>\n",
       "      <td>9.24</td>\n",
       "      <td>9.88</td>\n",
       "      <td>1.89</td>\n",
       "      <td>10.45</td>\n",
       "      <td>1.74</td>\n",
       "      <td>0.92</td>\n",
       "      <td>1.98</td>\n",
       "      <td>9.27</td>\n",
       "    </tr>\n",
       "    <tr>\n",
       "      <th>6</th>\n",
       "      <td>ABQ</td>\n",
       "      <td>2010.0</td>\n",
       "      <td>222.0</td>\n",
       "      <td>177.0</td>\n",
       "      <td>71.0</td>\n",
       "      <td>50.0</td>\n",
       "      <td>42302.0</td>\n",
       "      <td>42169.0</td>\n",
       "      <td>0.8144</td>\n",
       "      <td>0.7907</td>\n",
       "      <td>0.8047</td>\n",
       "      <td>10.25</td>\n",
       "      <td>9.95</td>\n",
       "      <td>2.05</td>\n",
       "      <td>11.58</td>\n",
       "      <td>1.66</td>\n",
       "      <td>0.95</td>\n",
       "      <td>1.90</td>\n",
       "      <td>10.23</td>\n",
       "    </tr>\n",
       "    <tr>\n",
       "      <th>7</th>\n",
       "      <td>ABQ</td>\n",
       "      <td>2011.0</td>\n",
       "      <td>345.0</td>\n",
       "      <td>294.0</td>\n",
       "      <td>77.0</td>\n",
       "      <td>61.0</td>\n",
       "      <td>42283.0</td>\n",
       "      <td>42297.0</td>\n",
       "      <td>0.8072</td>\n",
       "      <td>0.7758</td>\n",
       "      <td>0.8022</td>\n",
       "      <td>10.81</td>\n",
       "      <td>10.50</td>\n",
       "      <td>2.51</td>\n",
       "      <td>12.57</td>\n",
       "      <td>1.58</td>\n",
       "      <td>0.84</td>\n",
       "      <td>1.87</td>\n",
       "      <td>10.63</td>\n",
       "    </tr>\n",
       "    <tr>\n",
       "      <th>8</th>\n",
       "      <td>ABQ</td>\n",
       "      <td>2012.0</td>\n",
       "      <td>237.0</td>\n",
       "      <td>181.0</td>\n",
       "      <td>65.0</td>\n",
       "      <td>60.0</td>\n",
       "      <td>39105.0</td>\n",
       "      <td>39107.0</td>\n",
       "      <td>0.8219</td>\n",
       "      <td>0.7940</td>\n",
       "      <td>0.8177</td>\n",
       "      <td>10.55</td>\n",
       "      <td>10.27</td>\n",
       "      <td>2.32</td>\n",
       "      <td>12.11</td>\n",
       "      <td>1.41</td>\n",
       "      <td>0.98</td>\n",
       "      <td>1.80</td>\n",
       "      <td>9.73</td>\n",
       "    </tr>\n",
       "    <tr>\n",
       "      <th>9</th>\n",
       "      <td>ABQ</td>\n",
       "      <td>2013.0</td>\n",
       "      <td>232.0</td>\n",
       "      <td>212.0</td>\n",
       "      <td>62.0</td>\n",
       "      <td>46.0</td>\n",
       "      <td>35277.0</td>\n",
       "      <td>34989.0</td>\n",
       "      <td>0.7710</td>\n",
       "      <td>0.7402</td>\n",
       "      <td>0.7554</td>\n",
       "      <td>12.56</td>\n",
       "      <td>10.77</td>\n",
       "      <td>2.64</td>\n",
       "      <td>14.28</td>\n",
       "      <td>1.60</td>\n",
       "      <td>0.92</td>\n",
       "      <td>2.35</td>\n",
       "      <td>12.76</td>\n",
       "    </tr>\n",
       "  </tbody>\n",
       "</table>\n",
       "</div>"
      ],
      "text/plain": [
       "  airport    year  dep_cxl  arr_cxl  dep_div  arr_div      dep      arr  \\\n",
       "0     ABQ  2004.0    242.0    235.0     71.0     46.0  53971.0  53818.0   \n",
       "1     ABQ  2005.0    221.0    190.0     61.0     33.0  51829.0  51877.0   \n",
       "2     ABQ  2006.0    392.0    329.0     71.0    124.0  49682.0  51199.0   \n",
       "3     ABQ  2007.0    366.0    304.0    107.0     45.0  53255.0  53611.0   \n",
       "4     ABQ  2008.0    333.0    300.0     79.0     42.0  49589.0  49512.0   \n",
       "5     ABQ  2009.0    192.0    162.0     74.0     26.0  42550.0  42704.0   \n",
       "6     ABQ  2010.0    222.0    177.0     71.0     50.0  42302.0  42169.0   \n",
       "7     ABQ  2011.0    345.0    294.0     77.0     61.0  42283.0  42297.0   \n",
       "8     ABQ  2012.0    237.0    181.0     65.0     60.0  39105.0  39107.0   \n",
       "9     ABQ  2013.0    232.0    212.0     62.0     46.0  35277.0  34989.0   \n",
       "\n",
       "   ot_gate_dep  ot_ap_dep  ot_gate_arr  gate_dep_del  taxi_out  taxi_out_del  \\\n",
       "0       0.8030     0.7809       0.7921         10.38      9.89          2.43   \n",
       "1       0.8140     0.7922       0.8001          9.60      9.79          2.29   \n",
       "2       0.7983     0.7756       0.7746         10.84      9.89          2.16   \n",
       "3       0.8005     0.7704       0.7647         11.29     10.34          2.40   \n",
       "4       0.8103     0.7844       0.7875         10.79     10.41          2.41   \n",
       "5       0.8341     0.8147       0.8224          9.24      9.88          1.89   \n",
       "6       0.8144     0.7907       0.8047         10.25      9.95          2.05   \n",
       "7       0.8072     0.7758       0.8022         10.81     10.50          2.51   \n",
       "8       0.8219     0.7940       0.8177         10.55     10.27          2.32   \n",
       "9       0.7710     0.7402       0.7554         12.56     10.77          2.64   \n",
       "\n",
       "   ap_dep_del  in_air_del  taxi_in_del  block_del  gate_arr_del  \n",
       "0       12.10        2.46         0.83       2.55         10.87  \n",
       "1       11.20        2.26         0.89       2.34         10.24  \n",
       "2       12.33        2.12         0.84       2.66         11.82  \n",
       "3       12.95        2.19         1.29       3.06         12.71  \n",
       "4       12.32        1.82         1.03       2.79         11.48  \n",
       "5       10.45        1.74         0.92       1.98          9.27  \n",
       "6       11.58        1.66         0.95       1.90         10.23  \n",
       "7       12.57        1.58         0.84       1.87         10.63  \n",
       "8       12.11        1.41         0.98       1.80          9.73  \n",
       "9       14.28        1.60         0.92       2.35         12.76  "
      ]
     },
     "execution_count": 41,
     "metadata": {},
     "output_type": "execute_result"
    }
   ],
   "source": [
    "df = df_master\n",
    "\n",
    "df.head(10)"
   ]
  },
  {
   "cell_type": "code",
   "execution_count": 42,
   "metadata": {
    "collapsed": false
   },
   "outputs": [
    {
     "data": {
      "text/html": [
       "<div>\n",
       "<table border=\"1\" class=\"dataframe\">\n",
       "  <thead>\n",
       "    <tr style=\"text-align: right;\">\n",
       "      <th></th>\n",
       "      <th>year</th>\n",
       "      <th>dep_cxl</th>\n",
       "      <th>arr_cxl</th>\n",
       "      <th>dep_div</th>\n",
       "      <th>arr_div</th>\n",
       "      <th>dep</th>\n",
       "      <th>arr</th>\n",
       "      <th>ot_gate_dep</th>\n",
       "      <th>ot_ap_dep</th>\n",
       "      <th>ot_gate_arr</th>\n",
       "      <th>gate_dep_del</th>\n",
       "      <th>taxi_out</th>\n",
       "      <th>taxi_out_del</th>\n",
       "      <th>ap_dep_del</th>\n",
       "      <th>in_air_del</th>\n",
       "      <th>taxi_in_del</th>\n",
       "      <th>block_del</th>\n",
       "      <th>gate_arr_del</th>\n",
       "    </tr>\n",
       "  </thead>\n",
       "  <tbody>\n",
       "    <tr>\n",
       "      <th>count</th>\n",
       "      <td>799.000000</td>\n",
       "      <td>799.000000</td>\n",
       "      <td>799.000000</td>\n",
       "      <td>799.000000</td>\n",
       "      <td>799.000000</td>\n",
       "      <td>799.000000</td>\n",
       "      <td>799.000000</td>\n",
       "      <td>799.000000</td>\n",
       "      <td>799.000000</td>\n",
       "      <td>799.000000</td>\n",
       "      <td>799.000000</td>\n",
       "      <td>799.000000</td>\n",
       "      <td>799.000000</td>\n",
       "      <td>799.000000</td>\n",
       "      <td>799.000000</td>\n",
       "      <td>799.000000</td>\n",
       "      <td>799.000000</td>\n",
       "      <td>799.000000</td>\n",
       "    </tr>\n",
       "    <tr>\n",
       "      <th>mean</th>\n",
       "      <td>2009.016270</td>\n",
       "      <td>1299.314143</td>\n",
       "      <td>1341.068836</td>\n",
       "      <td>174.250313</td>\n",
       "      <td>170.256571</td>\n",
       "      <td>113471.568210</td>\n",
       "      <td>113003.959950</td>\n",
       "      <td>0.779123</td>\n",
       "      <td>0.726958</td>\n",
       "      <td>0.766864</td>\n",
       "      <td>12.890250</td>\n",
       "      <td>13.872879</td>\n",
       "      <td>3.683292</td>\n",
       "      <td>15.703504</td>\n",
       "      <td>2.875532</td>\n",
       "      <td>1.414155</td>\n",
       "      <td>3.290826</td>\n",
       "      <td>13.428811</td>\n",
       "    </tr>\n",
       "    <tr>\n",
       "      <th>std</th>\n",
       "      <td>3.150126</td>\n",
       "      <td>1840.877193</td>\n",
       "      <td>1980.459892</td>\n",
       "      <td>172.638408</td>\n",
       "      <td>229.162686</td>\n",
       "      <td>98059.144667</td>\n",
       "      <td>97705.308115</td>\n",
       "      <td>0.052279</td>\n",
       "      <td>0.076027</td>\n",
       "      <td>0.050502</td>\n",
       "      <td>3.036474</td>\n",
       "      <td>3.806217</td>\n",
       "      <td>2.337325</td>\n",
       "      <td>4.364217</td>\n",
       "      <td>1.169739</td>\n",
       "      <td>0.854702</td>\n",
       "      <td>0.989275</td>\n",
       "      <td>3.251647</td>\n",
       "    </tr>\n",
       "    <tr>\n",
       "      <th>min</th>\n",
       "      <td>2004.000000</td>\n",
       "      <td>0.000000</td>\n",
       "      <td>0.000000</td>\n",
       "      <td>0.000000</td>\n",
       "      <td>0.000000</td>\n",
       "      <td>731.000000</td>\n",
       "      <td>717.000000</td>\n",
       "      <td>0.529900</td>\n",
       "      <td>0.380800</td>\n",
       "      <td>0.513600</td>\n",
       "      <td>5.350000</td>\n",
       "      <td>7.240000</td>\n",
       "      <td>0.100000</td>\n",
       "      <td>6.290000</td>\n",
       "      <td>0.950000</td>\n",
       "      <td>0.020000</td>\n",
       "      <td>1.330000</td>\n",
       "      <td>6.330000</td>\n",
       "    </tr>\n",
       "    <tr>\n",
       "      <th>25%</th>\n",
       "      <td>2006.000000</td>\n",
       "      <td>349.000000</td>\n",
       "      <td>314.500000</td>\n",
       "      <td>62.000000</td>\n",
       "      <td>41.000000</td>\n",
       "      <td>42064.000000</td>\n",
       "      <td>42006.500000</td>\n",
       "      <td>0.753100</td>\n",
       "      <td>0.691800</td>\n",
       "      <td>0.742150</td>\n",
       "      <td>10.830000</td>\n",
       "      <td>11.475000</td>\n",
       "      <td>2.300000</td>\n",
       "      <td>12.890000</td>\n",
       "      <td>2.035000</td>\n",
       "      <td>0.845000</td>\n",
       "      <td>2.615000</td>\n",
       "      <td>11.270000</td>\n",
       "    </tr>\n",
       "    <tr>\n",
       "      <th>50%</th>\n",
       "      <td>2009.000000</td>\n",
       "      <td>670.000000</td>\n",
       "      <td>653.000000</td>\n",
       "      <td>111.000000</td>\n",
       "      <td>84.000000</td>\n",
       "      <td>79489.000000</td>\n",
       "      <td>79750.000000</td>\n",
       "      <td>0.784100</td>\n",
       "      <td>0.740200</td>\n",
       "      <td>0.770500</td>\n",
       "      <td>12.540000</td>\n",
       "      <td>12.940000</td>\n",
       "      <td>3.050000</td>\n",
       "      <td>15.130000</td>\n",
       "      <td>2.620000</td>\n",
       "      <td>1.140000</td>\n",
       "      <td>3.130000</td>\n",
       "      <td>12.970000</td>\n",
       "    </tr>\n",
       "    <tr>\n",
       "      <th>75%</th>\n",
       "      <td>2012.000000</td>\n",
       "      <td>1483.500000</td>\n",
       "      <td>1542.000000</td>\n",
       "      <td>237.000000</td>\n",
       "      <td>190.000000</td>\n",
       "      <td>166469.500000</td>\n",
       "      <td>165560.500000</td>\n",
       "      <td>0.810700</td>\n",
       "      <td>0.773700</td>\n",
       "      <td>0.797600</td>\n",
       "      <td>14.620000</td>\n",
       "      <td>15.745000</td>\n",
       "      <td>4.220000</td>\n",
       "      <td>17.555000</td>\n",
       "      <td>3.550000</td>\n",
       "      <td>1.775000</td>\n",
       "      <td>3.815000</td>\n",
       "      <td>14.935000</td>\n",
       "    </tr>\n",
       "    <tr>\n",
       "      <th>max</th>\n",
       "      <td>2014.000000</td>\n",
       "      <td>16618.000000</td>\n",
       "      <td>17571.000000</td>\n",
       "      <td>1064.000000</td>\n",
       "      <td>1948.000000</td>\n",
       "      <td>491826.000000</td>\n",
       "      <td>486799.000000</td>\n",
       "      <td>0.909700</td>\n",
       "      <td>0.897400</td>\n",
       "      <td>0.880300</td>\n",
       "      <td>25.840000</td>\n",
       "      <td>35.760000</td>\n",
       "      <td>18.940000</td>\n",
       "      <td>40.510000</td>\n",
       "      <td>7.820000</td>\n",
       "      <td>6.180000</td>\n",
       "      <td>7.520000</td>\n",
       "      <td>27.780000</td>\n",
       "    </tr>\n",
       "  </tbody>\n",
       "</table>\n",
       "</div>"
      ],
      "text/plain": [
       "              year       dep_cxl       arr_cxl      dep_div      arr_div  \\\n",
       "count   799.000000    799.000000    799.000000   799.000000   799.000000   \n",
       "mean   2009.016270   1299.314143   1341.068836   174.250313   170.256571   \n",
       "std       3.150126   1840.877193   1980.459892   172.638408   229.162686   \n",
       "min    2004.000000      0.000000      0.000000     0.000000     0.000000   \n",
       "25%    2006.000000    349.000000    314.500000    62.000000    41.000000   \n",
       "50%    2009.000000    670.000000    653.000000   111.000000    84.000000   \n",
       "75%    2012.000000   1483.500000   1542.000000   237.000000   190.000000   \n",
       "max    2014.000000  16618.000000  17571.000000  1064.000000  1948.000000   \n",
       "\n",
       "                 dep            arr  ot_gate_dep   ot_ap_dep  ot_gate_arr  \\\n",
       "count     799.000000     799.000000   799.000000  799.000000   799.000000   \n",
       "mean   113471.568210  113003.959950     0.779123    0.726958     0.766864   \n",
       "std     98059.144667   97705.308115     0.052279    0.076027     0.050502   \n",
       "min       731.000000     717.000000     0.529900    0.380800     0.513600   \n",
       "25%     42064.000000   42006.500000     0.753100    0.691800     0.742150   \n",
       "50%     79489.000000   79750.000000     0.784100    0.740200     0.770500   \n",
       "75%    166469.500000  165560.500000     0.810700    0.773700     0.797600   \n",
       "max    491826.000000  486799.000000     0.909700    0.897400     0.880300   \n",
       "\n",
       "       gate_dep_del    taxi_out  taxi_out_del  ap_dep_del  in_air_del  \\\n",
       "count    799.000000  799.000000    799.000000  799.000000  799.000000   \n",
       "mean      12.890250   13.872879      3.683292   15.703504    2.875532   \n",
       "std        3.036474    3.806217      2.337325    4.364217    1.169739   \n",
       "min        5.350000    7.240000      0.100000    6.290000    0.950000   \n",
       "25%       10.830000   11.475000      2.300000   12.890000    2.035000   \n",
       "50%       12.540000   12.940000      3.050000   15.130000    2.620000   \n",
       "75%       14.620000   15.745000      4.220000   17.555000    3.550000   \n",
       "max       25.840000   35.760000     18.940000   40.510000    7.820000   \n",
       "\n",
       "       taxi_in_del   block_del  gate_arr_del  \n",
       "count   799.000000  799.000000    799.000000  \n",
       "mean      1.414155    3.290826     13.428811  \n",
       "std       0.854702    0.989275      3.251647  \n",
       "min       0.020000    1.330000      6.330000  \n",
       "25%       0.845000    2.615000     11.270000  \n",
       "50%       1.140000    3.130000     12.970000  \n",
       "75%       1.775000    3.815000     14.935000  \n",
       "max       6.180000    7.520000     27.780000  "
      ]
     },
     "execution_count": 42,
     "metadata": {},
     "output_type": "execute_result"
    }
   ],
   "source": [
    "df.describe()"
   ]
  },
  {
   "cell_type": "code",
   "execution_count": 43,
   "metadata": {
    "collapsed": false
   },
   "outputs": [
    {
     "data": {
      "text/plain": [
       "<matplotlib.axes._subplots.AxesSubplot at 0x7fe93b1dae50>"
      ]
     },
     "execution_count": 43,
     "metadata": {},
     "output_type": "execute_result"
    },
    {
     "data": {
      "image/png": "[encoded data removed]",
      "text/plain": [
       "<matplotlib.figure.Figure at 0x7fe9551aeb50>"
      ]
     },
     "metadata": {},
     "output_type": "display_data"
    }
   ],
   "source": [
    "df['taxi_out'].plot(kind='hist', alpha=0.5)"
   ]
  },
  {
   "cell_type": "code",
   "execution_count": 44,
   "metadata": {
    "collapsed": false
   },
   "outputs": [
    {
     "data": {
      "text/plain": [
       "{'boxes': [<matplotlib.lines.Line2D at 0x7fe93afdcbd0>],\n",
       " 'caps': [<matplotlib.lines.Line2D at 0x7fe93afecb10>,\n",
       "  <matplotlib.lines.Line2D at 0x7fe93af76190>],\n",
       " 'fliers': [<matplotlib.lines.Line2D at 0x7fe93af76e10>],\n",
       " 'means': [],\n",
       " 'medians': [<matplotlib.lines.Line2D at 0x7fe93af767d0>],\n",
       " 'whiskers': [<matplotlib.lines.Line2D at 0x7fe93afdcdd0>,\n",
       "  <matplotlib.lines.Line2D at 0x7fe93afec4d0>]}"
      ]
     },
     "execution_count": 44,
     "metadata": {},
     "output_type": "execute_result"
    },
    {
     "data": {
      "image/png": "[encoded data removed]",
      "text/plain": [
       "<matplotlib.figure.Figure at 0x7fe93b447550>"
      ]
     },
     "metadata": {},
     "output_type": "display_data"
    }
   ],
   "source": [
    "df.boxplot(column='taxi_out')"
   ]
  },
  {
   "cell_type": "code",
   "execution_count": 48,
   "metadata": {
    "collapsed": false
   },
   "outputs": [
    {
     "data": {
      "image/png": "[encoded data removed]",
      "text/plain": [
       "<matplotlib.figure.Figure at 0x7fe93ae99f10>"
      ]
     },
     "metadata": {},
     "output_type": "display_data"
    }
   ],
   "source": [
    "plt.scatter(df['gate_arr_del'], df['gate_dep_del'])\n",
    "plt.show()"
   ]
  },
  {
   "cell_type": "code",
   "execution_count": 50,
   "metadata": {
    "collapsed": false
   },
   "outputs": [
    {
     "data": {
      "image/png": "[encoded data removed]",
      "text/plain": [
       "<matplotlib.figure.Figure at 0x7fe93ae2ac50>"
      ]
     },
     "metadata": {},
     "output_type": "display_data"
    }
   ],
   "source": [
    "plt.scatter(df['dep_cxl'], df['arr_cxl'])\n",
    "plt.show()"
   ]
  },
  {
   "cell_type": "code",
   "execution_count": 51,
   "metadata": {
    "collapsed": false
   },
   "outputs": [
    {
     "data": {
      "image/png": "[encoded data removed]",
      "text/plain": [
       "<matplotlib.figure.Figure at 0x7fe93ad60750>"
      ]
     },
     "metadata": {},
     "output_type": "display_data"
    }
   ],
   "source": [
    "plt.scatter(df['taxi_out_del'], df['taxi_in_del'])\n",
    "plt.show()"
   ]
  },
  {
   "cell_type": "code",
   "execution_count": 52,
   "metadata": {
    "collapsed": false
   },
   "outputs": [
    {
     "data": {
      "image/png": "[encoded data removed]",
      "text/plain": [
       "<matplotlib.figure.Figure at 0x7fe93afa2390>"
      ]
     },
     "metadata": {},
     "output_type": "display_data"
    }
   ],
   "source": [
    "plt.scatter(df['dep_div'], df['arr_div'])\n",
    "plt.show()"
   ]
  },
  {
   "cell_type": "markdown",
   "metadata": {},
   "source": [
    "## Part 3: Data Mining"
   ]
  },
  {
   "cell_type": "markdown",
   "metadata": {},
   "source": [
    "#### Are there any unique values?"
   ]
  },
  {
   "cell_type": "code",
   "execution_count": 53,
   "metadata": {
    "collapsed": false
   },
   "outputs": [
    {
     "data": {
      "text/plain": [
       "array(['ABQ', 'ANC', 'ATL', 'AUS', 'BDL', 'BHM', 'BNA', 'BOS', 'BUF',\n",
       "       'BUR', 'BWI', 'CLE', 'CLT', 'CVG', 'DAL', 'DAY', 'DCA', 'DEN',\n",
       "       'DFW', 'DTW', 'EWR', 'FLL', 'HNL', 'HOU', 'HPN', 'IAD', 'IAH',\n",
       "       'IND', 'ISP', 'JAX', 'JFK', 'LAS', 'LAX', 'LGA', 'LGB', 'MCI',\n",
       "       'MCO', 'MDW', 'MEM', 'MHT', 'MIA', 'MKE', 'MSP', 'MSY', 'OAK',\n",
       "       'OGG', 'OMA', 'ONT', 'ORD', 'OXR', 'PBI', 'PDX', 'PHL', 'PHX',\n",
       "       'PIT', 'PSP', 'PVD', 'RDU', 'RFD', 'RSW', 'SAN', 'SAT', 'SDF',\n",
       "       'SEA', 'SFO', 'SJC', 'SJU', 'SLC', 'SMF', 'SNA', 'STL', 'SWF',\n",
       "       'TPA', 'TUS'], dtype=object)"
      ]
     },
     "execution_count": 53,
     "metadata": {},
     "output_type": "execute_result"
    }
   ],
   "source": [
    "##Check for Unique Values \n",
    "\n",
    "df.airport.unique()"
   ]
  },
  {
   "cell_type": "markdown",
   "metadata": {},
   "source": [
    "#### 3.1 Create Dummy Variables"
   ]
  },
  {
   "cell_type": "code",
   "execution_count": 54,
   "metadata": {
    "collapsed": true
   },
   "outputs": [],
   "source": [
    "# create a copy of airport names for use later if we need them.\n",
    "ap_id = df.airport.values\n",
    "\n",
    "#create dummy variables for airport codes\n",
    "apCodes = preprocessing.LabelEncoder()\n",
    "df.airport = apCodes.fit_transform(df.airport)"
   ]
  },
  {
   "cell_type": "code",
   "execution_count": 55,
   "metadata": {
    "collapsed": false
   },
   "outputs": [
    {
     "data": {
      "text/html": [
       "<div>\n",
       "<table border=\"1\" class=\"dataframe\">\n",
       "  <thead>\n",
       "    <tr style=\"text-align: right;\">\n",
       "      <th></th>\n",
       "      <th>airport</th>\n",
       "      <th>year</th>\n",
       "      <th>dep_cxl</th>\n",
       "      <th>arr_cxl</th>\n",
       "      <th>dep_div</th>\n",
       "      <th>arr_div</th>\n",
       "      <th>dep</th>\n",
       "      <th>arr</th>\n",
       "      <th>ot_gate_dep</th>\n",
       "      <th>ot_ap_dep</th>\n",
       "      <th>ot_gate_arr</th>\n",
       "      <th>gate_dep_del</th>\n",
       "      <th>taxi_out</th>\n",
       "      <th>taxi_out_del</th>\n",
       "      <th>ap_dep_del</th>\n",
       "      <th>in_air_del</th>\n",
       "      <th>taxi_in_del</th>\n",
       "      <th>block_del</th>\n",
       "      <th>gate_arr_del</th>\n",
       "    </tr>\n",
       "  </thead>\n",
       "  <tbody>\n",
       "    <tr>\n",
       "      <th>0</th>\n",
       "      <td>0</td>\n",
       "      <td>2004.0</td>\n",
       "      <td>242.0</td>\n",
       "      <td>235.0</td>\n",
       "      <td>71.0</td>\n",
       "      <td>46.0</td>\n",
       "      <td>53971.0</td>\n",
       "      <td>53818.0</td>\n",
       "      <td>0.8030</td>\n",
       "      <td>0.7809</td>\n",
       "      <td>0.7921</td>\n",
       "      <td>10.38</td>\n",
       "      <td>9.89</td>\n",
       "      <td>2.43</td>\n",
       "      <td>12.10</td>\n",
       "      <td>2.46</td>\n",
       "      <td>0.83</td>\n",
       "      <td>2.55</td>\n",
       "      <td>10.87</td>\n",
       "    </tr>\n",
       "    <tr>\n",
       "      <th>1</th>\n",
       "      <td>0</td>\n",
       "      <td>2005.0</td>\n",
       "      <td>221.0</td>\n",
       "      <td>190.0</td>\n",
       "      <td>61.0</td>\n",
       "      <td>33.0</td>\n",
       "      <td>51829.0</td>\n",
       "      <td>51877.0</td>\n",
       "      <td>0.8140</td>\n",
       "      <td>0.7922</td>\n",
       "      <td>0.8001</td>\n",
       "      <td>9.60</td>\n",
       "      <td>9.79</td>\n",
       "      <td>2.29</td>\n",
       "      <td>11.20</td>\n",
       "      <td>2.26</td>\n",
       "      <td>0.89</td>\n",
       "      <td>2.34</td>\n",
       "      <td>10.24</td>\n",
       "    </tr>\n",
       "    <tr>\n",
       "      <th>2</th>\n",
       "      <td>0</td>\n",
       "      <td>2006.0</td>\n",
       "      <td>392.0</td>\n",
       "      <td>329.0</td>\n",
       "      <td>71.0</td>\n",
       "      <td>124.0</td>\n",
       "      <td>49682.0</td>\n",
       "      <td>51199.0</td>\n",
       "      <td>0.7983</td>\n",
       "      <td>0.7756</td>\n",
       "      <td>0.7746</td>\n",
       "      <td>10.84</td>\n",
       "      <td>9.89</td>\n",
       "      <td>2.16</td>\n",
       "      <td>12.33</td>\n",
       "      <td>2.12</td>\n",
       "      <td>0.84</td>\n",
       "      <td>2.66</td>\n",
       "      <td>11.82</td>\n",
       "    </tr>\n",
       "    <tr>\n",
       "      <th>3</th>\n",
       "      <td>0</td>\n",
       "      <td>2007.0</td>\n",
       "      <td>366.0</td>\n",
       "      <td>304.0</td>\n",
       "      <td>107.0</td>\n",
       "      <td>45.0</td>\n",
       "      <td>53255.0</td>\n",
       "      <td>53611.0</td>\n",
       "      <td>0.8005</td>\n",
       "      <td>0.7704</td>\n",
       "      <td>0.7647</td>\n",
       "      <td>11.29</td>\n",
       "      <td>10.34</td>\n",
       "      <td>2.40</td>\n",
       "      <td>12.95</td>\n",
       "      <td>2.19</td>\n",
       "      <td>1.29</td>\n",
       "      <td>3.06</td>\n",
       "      <td>12.71</td>\n",
       "    </tr>\n",
       "    <tr>\n",
       "      <th>4</th>\n",
       "      <td>0</td>\n",
       "      <td>2008.0</td>\n",
       "      <td>333.0</td>\n",
       "      <td>300.0</td>\n",
       "      <td>79.0</td>\n",
       "      <td>42.0</td>\n",
       "      <td>49589.0</td>\n",
       "      <td>49512.0</td>\n",
       "      <td>0.8103</td>\n",
       "      <td>0.7844</td>\n",
       "      <td>0.7875</td>\n",
       "      <td>10.79</td>\n",
       "      <td>10.41</td>\n",
       "      <td>2.41</td>\n",
       "      <td>12.32</td>\n",
       "      <td>1.82</td>\n",
       "      <td>1.03</td>\n",
       "      <td>2.79</td>\n",
       "      <td>11.48</td>\n",
       "    </tr>\n",
       "  </tbody>\n",
       "</table>\n",
       "</div>"
      ],
      "text/plain": [
       "   airport    year  dep_cxl  arr_cxl  dep_div  arr_div      dep      arr  \\\n",
       "0        0  2004.0    242.0    235.0     71.0     46.0  53971.0  53818.0   \n",
       "1        0  2005.0    221.0    190.0     61.0     33.0  51829.0  51877.0   \n",
       "2        0  2006.0    392.0    329.0     71.0    124.0  49682.0  51199.0   \n",
       "3        0  2007.0    366.0    304.0    107.0     45.0  53255.0  53611.0   \n",
       "4        0  2008.0    333.0    300.0     79.0     42.0  49589.0  49512.0   \n",
       "\n",
       "   ot_gate_dep  ot_ap_dep  ot_gate_arr  gate_dep_del  taxi_out  taxi_out_del  \\\n",
       "0       0.8030     0.7809       0.7921         10.38      9.89          2.43   \n",
       "1       0.8140     0.7922       0.8001          9.60      9.79          2.29   \n",
       "2       0.7983     0.7756       0.7746         10.84      9.89          2.16   \n",
       "3       0.8005     0.7704       0.7647         11.29     10.34          2.40   \n",
       "4       0.8103     0.7844       0.7875         10.79     10.41          2.41   \n",
       "\n",
       "   ap_dep_del  in_air_del  taxi_in_del  block_del  gate_arr_del  \n",
       "0       12.10        2.46         0.83       2.55         10.87  \n",
       "1       11.20        2.26         0.89       2.34         10.24  \n",
       "2       12.33        2.12         0.84       2.66         11.82  \n",
       "3       12.95        2.19         1.29       3.06         12.71  \n",
       "4       12.32        1.82         1.03       2.79         11.48  "
      ]
     },
     "execution_count": 55,
     "metadata": {},
     "output_type": "execute_result"
    }
   ],
   "source": [
    "df.head()"
   ]
  },
  {
   "cell_type": "code",
   "execution_count": 68,
   "metadata": {
    "collapsed": false
   },
   "outputs": [
    {
     "data": {
      "text/plain": [
       "(799, 19)"
      ]
     },
     "execution_count": 68,
     "metadata": {},
     "output_type": "execute_result"
    }
   ],
   "source": [
    "df.shape"
   ]
  },
  {
   "cell_type": "markdown",
   "metadata": {},
   "source": [
    "#### 3.2 Format the data"
   ]
  },
  {
   "cell_type": "code",
   "execution_count": 62,
   "metadata": {
    "collapsed": false
   },
   "outputs": [
    {
     "name": "stdout",
     "output_type": "stream",
     "text": [
      "(799,) (799,) (799,) (799,) (799,)\n"
     ]
    }
   ],
   "source": [
    "taxi = df['taxi_out']\n",
    "gate = df['gate_dep_del']\n",
    "year = df['year']\n",
    "taxDel = df['taxi_out_del']\n",
    "airDel = df['in_air_del']\n",
    "print taxi.shape, gate.shape, year.shape, taxDel.shape, airDel.shape"
   ]
  },
  {
   "cell_type": "markdown",
   "metadata": {},
   "source": [
    "## Part 4: Refine the Data"
   ]
  },
  {
   "cell_type": "markdown",
   "metadata": {},
   "source": [
    "#### 4.1 Confirm that the dataset has a normal distribution. How can you tell?"
   ]
  },
  {
   "cell_type": "code",
   "execution_count": 59,
   "metadata": {
    "collapsed": false
   },
   "outputs": [
    {
     "data": {
      "text/plain": [
       "NormaltestResult(statistic=array([ 526.74257131,  610.35370293,  677.34396372,  672.85698189,\n",
       "        336.47828022,  540.32889134,  223.19690471,  223.85879996,\n",
       "        126.79779757,  139.0504605 ,  124.9829939 ,   45.2717115 ,\n",
       "        295.08863972,  462.20657534,  194.81532975,  142.94812843,\n",
       "        254.26970344,  110.95544514,  135.43205183]), pvalue=array([  4.16201794e-115,   2.90654736e-133,   8.25328995e-148,\n",
       "         7.77969961e-147,   8.60339396e-074,   4.66736795e-118,\n",
       "         3.41513560e-049,   2.45289651e-049,   2.92555386e-028,\n",
       "         6.39110789e-031,   7.24916038e-028,   1.47697368e-010,\n",
       "         8.36211330e-065,   4.29652570e-101,   4.97036921e-043,\n",
       "         9.10349823e-032,   6.10991884e-056,   8.05992905e-025,\n",
       "         3.90214685e-030]))"
      ]
     },
     "execution_count": 59,
     "metadata": {},
     "output_type": "execute_result"
    }
   ],
   "source": [
    "normaltest(df)"
   ]
  },
  {
   "cell_type": "code",
   "execution_count": 60,
   "metadata": {
    "collapsed": true
   },
   "outputs": [],
   "source": [
    "df_normalized = preprocessing.normalize(df, norm='l2')"
   ]
  },
  {
   "cell_type": "markdown",
   "metadata": {},
   "source": [
    "#### 4.2 Find correlations in the data"
   ]
  },
  {
   "cell_type": "code",
   "execution_count": 64,
   "metadata": {
    "collapsed": false
   },
   "outputs": [
    {
     "data": {
      "text/plain": [
       "(0.61186977980251467, 3.1046710680743682e-83)"
      ]
     },
     "execution_count": 64,
     "metadata": {},
     "output_type": "execute_result"
    }
   ],
   "source": [
    "# conduct correlations\n",
    "\n",
    "pearsonr(taxi, airDel)"
   ]
  },
  {
   "cell_type": "code",
   "execution_count": 65,
   "metadata": {
    "collapsed": false
   },
   "outputs": [
    {
     "data": {
      "text/plain": [
       "(-0.33444156049843121, 2.4780695834840307e-22)"
      ]
     },
     "execution_count": 65,
     "metadata": {},
     "output_type": "execute_result"
    }
   ],
   "source": [
    "pearsonr(year, airDel)"
   ]
  },
  {
   "cell_type": "code",
   "execution_count": 66,
   "metadata": {
    "collapsed": false
   },
   "outputs": [
    {
     "data": {
      "text/plain": [
       "(0.32808369913127883, 1.6639233589008552e-21)"
      ]
     },
     "execution_count": 66,
     "metadata": {},
     "output_type": "execute_result"
    }
   ],
   "source": [
    "pearsonr(gate, airDel)"
   ]
  },
  {
   "cell_type": "code",
   "execution_count": 67,
   "metadata": {
    "collapsed": false
   },
   "outputs": [
    {
     "data": {
      "text/plain": [
       "(0.64291261021692325, 2.2139198719479529e-94)"
      ]
     },
     "execution_count": 67,
     "metadata": {},
     "output_type": "execute_result"
    }
   ],
   "source": [
    "pearsonr(taxDel, airDel)"
   ]
  },
  {
   "cell_type": "markdown",
   "metadata": {},
   "source": [
    "#### 4.3 What is the p-value? What does this mean?"
   ]
  },
  {
   "cell_type": "markdown",
   "metadata": {},
   "source": [
    "The p-value is our measure of the strength of the relationship between x and y. It measures the how likely it is that the null hypothesis is true; in the case of a correlation, how likely it is that two arrays between anaylized are not related.\n"
   ]
  },
  {
   "cell_type": "markdown",
   "metadata": {},
   "source": [
    "#### 4.4 What is the value of understanding correlations before PCA?¶"
   ]
  },
  {
   "cell_type": "markdown",
   "metadata": {},
   "source": [
    "Answer: Highly correlated variables contribute to a common underlying factor in PCA, the principal componant or eigenvector, which helps us further understand patterns in the data."
   ]
  },
  {
   "cell_type": "markdown",
   "metadata": {},
   "source": [
    "## Part 5: Perform a PCA and Present Findings"
   ]
  },
  {
   "cell_type": "markdown",
   "metadata": {},
   "source": [
    "#### 5.1 Define your \"X\" and \"Y\" variables"
   ]
  },
  {
   "cell_type": "code",
   "execution_count": 95,
   "metadata": {
    "collapsed": true
   },
   "outputs": [],
   "source": [
    "x = df.ix[:,1:18].values\n",
    "y = df.ix[:,0].values"
   ]
  },
  {
   "cell_type": "markdown",
   "metadata": {},
   "source": [
    "#### 5.2 Standardize the x values"
   ]
  },
  {
   "cell_type": "code",
   "execution_count": 96,
   "metadata": {
    "collapsed": false
   },
   "outputs": [],
   "source": [
    "xStand = preprocessing.StandardScaler().fit_transform(x)"
   ]
  },
  {
   "cell_type": "markdown",
   "metadata": {},
   "source": [
    "#### 5.3 Create the covariance matrix"
   ]
  },
  {
   "cell_type": "code",
   "execution_count": 97,
   "metadata": {
    "collapsed": true
   },
   "outputs": [],
   "source": [
    "covMat = np.cov(xStand.T)\n",
    "eigenValues, eigenVectors = np.linalg.eig(covMat)"
   ]
  },
  {
   "cell_type": "markdown",
   "metadata": {},
   "source": [
    "#### Check the Eigenvalues and Eigenvectors"
   ]
  },
  {
   "cell_type": "code",
   "execution_count": 98,
   "metadata": {
    "collapsed": false
   },
   "outputs": [
    {
     "name": "stdout",
     "output_type": "stream",
     "text": [
      "[  8.82790315e+00   3.68243378e+00   1.44550793e+00   9.27383505e-01\n",
      "   5.72994712e-01   4.25010947e-01   3.54850048e-01   2.45571026e-01\n",
      "   1.68165397e-01   1.42045655e-01   1.11222422e-01   6.15835274e-02\n",
      "   4.97070292e-02   4.19080881e-03   1.68969604e-04   1.61133911e-03\n",
      "   9.53012313e-04]\n"
     ]
    }
   ],
   "source": [
    "print(eigenValues)"
   ]
  },
  {
   "cell_type": "code",
   "execution_count": 99,
   "metadata": {
    "collapsed": false
   },
   "outputs": [
    {
     "name": "stdout",
     "output_type": "stream",
     "text": [
      "[[  4.20731157e-02  -2.46112360e-02  -6.12664471e-01   6.23673311e-01\n",
      "    1.12088877e-01   2.00783003e-01   3.81901737e-01   4.17865972e-02\n",
      "   -6.19174926e-03  -9.58868279e-02  -1.37323688e-01  -2.45677939e-02\n",
      "   -4.91941471e-02   4.04515645e-02   2.22703954e-03  -7.40809298e-03\n",
      "   -3.86956711e-03]\n",
      " [ -2.82688887e-01  -1.58012546e-01  -1.25906384e-01  -2.17006357e-01\n",
      "   -8.72768481e-02   5.39869133e-01  -7.10602289e-02  -9.51238795e-02\n",
      "    1.31751867e-01   6.56453807e-02  -6.33953178e-02   3.50850679e-02\n",
      "    4.90643189e-02   1.32367406e-01   7.54816882e-03   6.86589069e-01\n",
      "   -2.63259016e-02]\n",
      " [ -2.81661403e-01  -1.69955136e-01  -1.31807841e-01  -2.22568847e-01\n",
      "   -8.60757058e-02   5.07960345e-01  -5.20914646e-02  -1.22795986e-01\n",
      "    1.22036330e-01   4.66279005e-02  -7.56678432e-02   1.04212996e-02\n",
      "    1.08010966e-01  -1.54085176e-01  -6.32573482e-03  -6.94824590e-01\n",
      "    2.27091233e-02]\n",
      " [ -2.67407764e-01  -2.57254843e-01  -1.35084391e-01  -1.02948036e-01\n",
      "    5.20702432e-02  -2.25635015e-01   5.91746501e-02  -7.24209245e-02\n",
      "   -3.17253947e-01  -3.29314232e-01   1.09901218e-01  -5.41003797e-01\n",
      "    5.04730858e-01  -6.54547421e-03  -4.67678989e-03   4.90525419e-02\n",
      "    3.55241301e-03]\n",
      " [ -2.69437994e-01  -1.86733983e-01  -1.29017064e-01  -1.17235889e-01\n",
      "    8.00418218e-02  -3.01973571e-02  -5.93173323e-02   8.30564499e-01\n",
      "   -3.04692194e-01   8.99454187e-02   4.74564207e-02   2.19093919e-01\n",
      "   -9.85529986e-02  -1.30296597e-02   2.14110065e-03  -1.93791986e-02\n",
      "   -5.00518498e-03]\n",
      " [ -2.78673176e-01  -2.52634301e-01  -5.72900676e-02  -5.25058613e-02\n",
      "   -9.91461893e-02  -2.52574232e-01   1.60326141e-01  -2.90919044e-01\n",
      "   -1.30018701e-01  -1.88037313e-03  -1.07363909e-02   1.92870913e-01\n",
      "   -3.31950941e-01   3.56087824e-03   7.09732600e-01  -8.83422705e-03\n",
      "   -1.70502190e-02]\n",
      " [ -2.78406311e-01  -2.53342430e-01  -5.89575001e-02  -5.34854804e-02\n",
      "   -1.01851378e-01  -2.49676950e-01   1.57186606e-01  -2.88687989e-01\n",
      "   -1.31732445e-01  -8.99542815e-03  -1.82827682e-02   1.98260062e-01\n",
      "   -3.42328876e-01   4.34807996e-02  -7.03354129e-01  -2.15899265e-03\n",
      "    1.85254087e-02]\n",
      " [  1.48389275e-01  -3.99790195e-01   2.64552318e-01   2.11677917e-01\n",
      "    1.82288149e-01   2.53757289e-01  -5.64551287e-02   7.40934722e-03\n",
      "   -2.59630076e-02  -1.62697427e-01   3.72783756e-01  -1.87472100e-01\n",
      "   -3.28245528e-01  -5.23788251e-01  -1.63908072e-02   8.84575529e-02\n",
      "   -1.05063977e-01]\n",
      " [  2.65615284e-01  -2.87324669e-01   5.58011303e-02  -9.91224176e-02\n",
      "    1.40568623e-01   1.45817948e-01   1.71255655e-01   3.66352817e-03\n",
      "    4.01963228e-02  -7.66177945e-02   4.89232111e-01   6.86034752e-02\n",
      "   -1.59948068e-02   6.83996617e-01   2.05066624e-02  -1.40163137e-01\n",
      "    1.54517776e-01]\n",
      " [  1.25557872e-01  -4.32997873e-01   2.33985127e-02   1.84280142e-01\n",
      "   -2.74293488e-01  -1.41775866e-01   1.80458162e-02   4.28540375e-02\n",
      "    1.07041585e-01   7.49272407e-01  -4.74734363e-02  -2.60954281e-01\n",
      "    1.45442793e-01   1.83121295e-02  -4.90956437e-03   1.79256896e-03\n",
      "   -2.79388529e-03]\n",
      " [ -1.83838414e-01   3.85866876e-01  -2.53352797e-01  -8.39734799e-02\n",
      "   -8.34872435e-02  -2.99092251e-02   6.97116904e-02  -4.03166512e-02\n",
      "    3.13600186e-02   2.48187621e-01   5.85518299e-01  -1.32728599e-01\n",
      "   -8.64585547e-02  -1.43349397e-02  -1.85940404e-02  -2.61099615e-02\n",
      "   -5.47707975e-01]\n",
      " [ -2.76331822e-01  -5.30561796e-03   2.15674553e-01   4.58382173e-01\n",
      "    1.07659780e-01   1.80149760e-02  -1.76153696e-01  -1.69970510e-01\n",
      "   -1.31650768e-01   1.04970084e-01   2.65381657e-01   5.17562478e-01\n",
      "    4.75973910e-01  -3.84899711e-02  -4.60920624e-03   1.45007960e-02\n",
      "    1.53112323e-02]\n",
      " [ -2.82051984e-01   1.96091407e-02   2.50359294e-01   3.64385084e-01\n",
      "    8.01157592e-03   8.35534819e-02  -4.20547120e-01   2.25874645e-02\n",
      "   -7.23463552e-02  -8.20658817e-02  -2.23433755e-01  -3.09317060e-01\n",
      "   -2.71346368e-01   4.57055118e-01   7.99323766e-03  -1.18760017e-01\n",
      "   -2.93131190e-01]\n",
      " [ -2.70626963e-01   2.87170276e-01  -6.68775658e-02   1.25175850e-01\n",
      "   -7.27600512e-02   2.10209200e-02  -1.49138614e-01  -6.85215124e-03\n",
      "   -1.05809089e-02   1.39115780e-01   2.83486125e-01  -2.61410810e-01\n",
      "   -2.21371008e-01  -3.63832808e-02   1.69161225e-02   1.98367724e-02\n",
      "    7.59574766e-01]\n",
      " [ -2.04625153e-01   9.51511368e-02   4.34896318e-01   1.45851097e-01\n",
      "   -5.48125309e-01   9.12059700e-02   5.41907442e-01   2.36456230e-01\n",
      "    1.61463585e-01  -2.16977279e-01   3.78048582e-02  -3.85567890e-02\n",
      "    6.44689096e-02   7.51864578e-03  -1.94122984e-04  -1.61915934e-04\n",
      "   -7.35215757e-03]\n",
      " [ -2.81188927e-01  -1.53454927e-01  -6.37982087e-02   3.15355619e-02\n",
      "    2.83439202e-01  -3.16266810e-01  -6.11684671e-02   1.40993868e-01\n",
      "    8.17003108e-01  -1.30431139e-01   4.71912553e-02  -1.01576831e-04\n",
      "    3.62266887e-02  -1.59486350e-02  -2.04446624e-03   5.63838998e-03\n",
      "   -5.02798356e-04]\n",
      " [ -2.17919085e-01   1.49116750e-01   3.24122577e-01  -8.92893692e-02\n",
      "    6.40440955e-01   9.75038989e-02   4.72987380e-01  -4.79738507e-02\n",
      "   -9.48204876e-02   3.33398590e-01  -1.69840606e-01  -1.48077380e-01\n",
      "   -1.94020707e-02   1.49199212e-02  -3.10908397e-03  -1.81557895e-04\n",
      "    5.49740119e-03]]\n"
     ]
    }
   ],
   "source": [
    "print(eigenVectors)"
   ]
  },
  {
   "cell_type": "markdown",
   "metadata": {},
   "source": [
    "#### 5.4 Print the Eigenpairs"
   ]
  },
  {
   "cell_type": "code",
   "execution_count": 100,
   "metadata": {
    "collapsed": false
   },
   "outputs": [
    {
     "name": "stdout",
     "output_type": "stream",
     "text": [
      "8.82790314818\n",
      "3.68243377799\n",
      "1.44550793288\n",
      "0.927383505101\n",
      "0.572994711899\n",
      "0.425010947388\n",
      "0.354850048315\n",
      "0.245571026428\n",
      "0.168165396831\n",
      "0.14204565481\n",
      "0.111222421949\n",
      "0.0615835273714\n",
      "0.0497070291609\n",
      "0.00419080881418\n",
      "0.00161133910758\n",
      "0.000953012313031\n",
      "0.000168969603539\n"
     ]
    }
   ],
   "source": [
    "eigenPairs = [(np.abs(eigenValues[i]), eigenVectors[:,i]) for i in range(len(eigenValues))]\n",
    "eigenPairs.sort()\n",
    "eigenPairs.reverse()\n",
    "for i in eigenPairs:\n",
    "    print(i[0])"
   ]
  },
  {
   "cell_type": "markdown",
   "metadata": {},
   "source": [
    "#### 5.5 Calculate the explained variance"
   ]
  },
  {
   "cell_type": "code",
   "execution_count": 101,
   "metadata": {
    "collapsed": true
   },
   "outputs": [],
   "source": [
    "totalEigen = sum(eigenValues)\n",
    "varExpl = [(i / totalEigen)*100 for i in sorted(eigenValues, reverse=True)]"
   ]
  },
  {
   "cell_type": "code",
   "execution_count": 102,
   "metadata": {
    "collapsed": false
   },
   "outputs": [
    {
     "name": "stdout",
     "output_type": "stream",
     "text": [
      "[51.863849755198288, 21.634264557435863, 8.4923458031432659, 5.4483695580537752, 3.3663386593185565, 2.4969354046631049, 2.0847407682791821, 1.4427275203517644, 0.98797015880757333, 0.83451691480932233, 0.65343070540396331, 0.36180265657336558, 0.29202833888240165, 0.024620963216608463, 0.0094666024283724531, 0.0055989385687911248, 0.00099269486581600843]\n"
     ]
    }
   ],
   "source": [
    "print(varExpl)"
   ]
  },
  {
   "cell_type": "code",
   "execution_count": 103,
   "metadata": {
    "collapsed": true
   },
   "outputs": [],
   "source": [
    "cvarex = np.cumsum(varExpl)"
   ]
  },
  {
   "cell_type": "code",
   "execution_count": 104,
   "metadata": {
    "collapsed": false
   },
   "outputs": [
    {
     "name": "stdout",
     "output_type": "stream",
     "text": [
      "[  51.86384976   73.49811431   81.99046012   87.43882967   90.80516833\n",
      "   93.30210374   95.38684451   96.82957203   97.81754219   98.6520591\n",
      "   99.30548981   99.66729246   99.9593208    99.98394176   99.99340837\n",
      "   99.99900731  100.        ]\n"
     ]
    }
   ],
   "source": [
    "print(cvarex)"
   ]
  },
  {
   "cell_type": "markdown",
   "metadata": {},
   "source": [
    "#### 5.6 Conduct the PCA"
   ]
  },
  {
   "cell_type": "code",
   "execution_count": 105,
   "metadata": {
    "collapsed": false
   },
   "outputs": [],
   "source": [
    "PCA_A = PCA(n_components=3)\n",
    "Y = PCA_A.fit_transform(xStand)"
   ]
  },
  {
   "cell_type": "code",
   "execution_count": 106,
   "metadata": {
    "collapsed": false
   },
   "outputs": [
    {
     "name": "stdout",
     "output_type": "stream",
     "text": [
      "[[ 2.46084353 -0.41802129 -1.06666897]\n",
      " [ 2.8057173  -0.79785039 -0.87229044]\n",
      " [ 2.32607075 -0.2357234  -0.42322298]\n",
      " ..., \n",
      " [ 3.63687257 -1.47087083  0.16484895]\n",
      " [ 2.90942893 -0.19347476  0.79391402]\n",
      " [ 2.4358858   0.59082792  1.28439566]]\n"
     ]
    }
   ],
   "source": [
    "print Y"
   ]
  },
  {
   "cell_type": "markdown",
   "metadata": {},
   "source": [
    "#### 5.7 Create a dataframe from the PCA results"
   ]
  },
  {
   "cell_type": "code",
   "execution_count": 117,
   "metadata": {
    "collapsed": false
   },
   "outputs": [],
   "source": [
    "Ydf = pd.DataFrame(Y, columns=[\"PC1\", \"PC2\", \"PC3\"])"
   ]
  },
  {
   "cell_type": "markdown",
   "metadata": {},
   "source": [
    "Now, create a new dataframe that uses the airport and year from the original set and join the PCA results with it to form a new set"
   ]
  },
  {
   "cell_type": "code",
   "execution_count": 118,
   "metadata": {
    "collapsed": false
   },
   "outputs": [
    {
     "data": {
      "text/html": [
       "<div>\n",
       "<table border=\"1\" class=\"dataframe\">\n",
       "  <thead>\n",
       "    <tr style=\"text-align: right;\">\n",
       "      <th></th>\n",
       "      <th>airport</th>\n",
       "      <th>year</th>\n",
       "    </tr>\n",
       "  </thead>\n",
       "  <tbody>\n",
       "    <tr>\n",
       "      <th>0</th>\n",
       "      <td>0</td>\n",
       "      <td>2004.0</td>\n",
       "    </tr>\n",
       "    <tr>\n",
       "      <th>1</th>\n",
       "      <td>0</td>\n",
       "      <td>2005.0</td>\n",
       "    </tr>\n",
       "    <tr>\n",
       "      <th>2</th>\n",
       "      <td>0</td>\n",
       "      <td>2006.0</td>\n",
       "    </tr>\n",
       "    <tr>\n",
       "      <th>3</th>\n",
       "      <td>0</td>\n",
       "      <td>2007.0</td>\n",
       "    </tr>\n",
       "    <tr>\n",
       "      <th>4</th>\n",
       "      <td>0</td>\n",
       "      <td>2008.0</td>\n",
       "    </tr>\n",
       "  </tbody>\n",
       "</table>\n",
       "</div>"
      ],
      "text/plain": [
       "   airport    year\n",
       "0        0  2004.0\n",
       "1        0  2005.0\n",
       "2        0  2006.0\n",
       "3        0  2007.0\n",
       "4        0  2008.0"
      ]
     },
     "execution_count": 118,
     "metadata": {},
     "output_type": "execute_result"
    }
   ],
   "source": [
    "airports2 = df[['airport', 'year']]\n",
    "airports2.head()"
   ]
  },
  {
   "cell_type": "code",
   "execution_count": 119,
   "metadata": {
    "collapsed": false,
    "scrolled": false
   },
   "outputs": [
    {
     "data": {
      "text/html": [
       "<div>\n",
       "<table border=\"1\" class=\"dataframe\">\n",
       "  <thead>\n",
       "    <tr style=\"text-align: right;\">\n",
       "      <th></th>\n",
       "      <th>year</th>\n",
       "      <th>airport</th>\n",
       "    </tr>\n",
       "  </thead>\n",
       "  <tbody>\n",
       "    <tr>\n",
       "      <th>0</th>\n",
       "      <td>2004.0</td>\n",
       "      <td>ABQ</td>\n",
       "    </tr>\n",
       "    <tr>\n",
       "      <th>1</th>\n",
       "      <td>2005.0</td>\n",
       "      <td>ABQ</td>\n",
       "    </tr>\n",
       "    <tr>\n",
       "      <th>2</th>\n",
       "      <td>2006.0</td>\n",
       "      <td>ABQ</td>\n",
       "    </tr>\n",
       "    <tr>\n",
       "      <th>3</th>\n",
       "      <td>2007.0</td>\n",
       "      <td>ABQ</td>\n",
       "    </tr>\n",
       "    <tr>\n",
       "      <th>4</th>\n",
       "      <td>2008.0</td>\n",
       "      <td>ABQ</td>\n",
       "    </tr>\n",
       "    <tr>\n",
       "      <th>5</th>\n",
       "      <td>2009.0</td>\n",
       "      <td>ABQ</td>\n",
       "    </tr>\n",
       "    <tr>\n",
       "      <th>6</th>\n",
       "      <td>2010.0</td>\n",
       "      <td>ABQ</td>\n",
       "    </tr>\n",
       "    <tr>\n",
       "      <th>7</th>\n",
       "      <td>2011.0</td>\n",
       "      <td>ABQ</td>\n",
       "    </tr>\n",
       "    <tr>\n",
       "      <th>8</th>\n",
       "      <td>2012.0</td>\n",
       "      <td>ABQ</td>\n",
       "    </tr>\n",
       "    <tr>\n",
       "      <th>9</th>\n",
       "      <td>2013.0</td>\n",
       "      <td>ABQ</td>\n",
       "    </tr>\n",
       "    <tr>\n",
       "      <th>10</th>\n",
       "      <td>2014.0</td>\n",
       "      <td>ABQ</td>\n",
       "    </tr>\n",
       "    <tr>\n",
       "      <th>11</th>\n",
       "      <td>2004.0</td>\n",
       "      <td>ANC</td>\n",
       "    </tr>\n",
       "    <tr>\n",
       "      <th>12</th>\n",
       "      <td>2005.0</td>\n",
       "      <td>ANC</td>\n",
       "    </tr>\n",
       "    <tr>\n",
       "      <th>13</th>\n",
       "      <td>2006.0</td>\n",
       "      <td>ANC</td>\n",
       "    </tr>\n",
       "    <tr>\n",
       "      <th>14</th>\n",
       "      <td>2007.0</td>\n",
       "      <td>ANC</td>\n",
       "    </tr>\n",
       "    <tr>\n",
       "      <th>15</th>\n",
       "      <td>2008.0</td>\n",
       "      <td>ANC</td>\n",
       "    </tr>\n",
       "    <tr>\n",
       "      <th>16</th>\n",
       "      <td>2009.0</td>\n",
       "      <td>ANC</td>\n",
       "    </tr>\n",
       "    <tr>\n",
       "      <th>17</th>\n",
       "      <td>2010.0</td>\n",
       "      <td>ANC</td>\n",
       "    </tr>\n",
       "    <tr>\n",
       "      <th>18</th>\n",
       "      <td>2011.0</td>\n",
       "      <td>ANC</td>\n",
       "    </tr>\n",
       "    <tr>\n",
       "      <th>19</th>\n",
       "      <td>2012.0</td>\n",
       "      <td>ANC</td>\n",
       "    </tr>\n",
       "    <tr>\n",
       "      <th>20</th>\n",
       "      <td>2013.0</td>\n",
       "      <td>ANC</td>\n",
       "    </tr>\n",
       "    <tr>\n",
       "      <th>21</th>\n",
       "      <td>2014.0</td>\n",
       "      <td>ANC</td>\n",
       "    </tr>\n",
       "    <tr>\n",
       "      <th>22</th>\n",
       "      <td>2004.0</td>\n",
       "      <td>ATL</td>\n",
       "    </tr>\n",
       "    <tr>\n",
       "      <th>23</th>\n",
       "      <td>2005.0</td>\n",
       "      <td>ATL</td>\n",
       "    </tr>\n",
       "    <tr>\n",
       "      <th>24</th>\n",
       "      <td>2006.0</td>\n",
       "      <td>ATL</td>\n",
       "    </tr>\n",
       "    <tr>\n",
       "      <th>25</th>\n",
       "      <td>2007.0</td>\n",
       "      <td>ATL</td>\n",
       "    </tr>\n",
       "    <tr>\n",
       "      <th>26</th>\n",
       "      <td>2008.0</td>\n",
       "      <td>ATL</td>\n",
       "    </tr>\n",
       "    <tr>\n",
       "      <th>27</th>\n",
       "      <td>2009.0</td>\n",
       "      <td>ATL</td>\n",
       "    </tr>\n",
       "    <tr>\n",
       "      <th>28</th>\n",
       "      <td>2010.0</td>\n",
       "      <td>ATL</td>\n",
       "    </tr>\n",
       "    <tr>\n",
       "      <th>29</th>\n",
       "      <td>2011.0</td>\n",
       "      <td>ATL</td>\n",
       "    </tr>\n",
       "    <tr>\n",
       "      <th>...</th>\n",
       "      <td>...</td>\n",
       "      <td>...</td>\n",
       "    </tr>\n",
       "    <tr>\n",
       "      <th>70</th>\n",
       "      <td>2008.0</td>\n",
       "      <td>BNA</td>\n",
       "    </tr>\n",
       "    <tr>\n",
       "      <th>71</th>\n",
       "      <td>2009.0</td>\n",
       "      <td>BNA</td>\n",
       "    </tr>\n",
       "    <tr>\n",
       "      <th>72</th>\n",
       "      <td>2010.0</td>\n",
       "      <td>BNA</td>\n",
       "    </tr>\n",
       "    <tr>\n",
       "      <th>73</th>\n",
       "      <td>2011.0</td>\n",
       "      <td>BNA</td>\n",
       "    </tr>\n",
       "    <tr>\n",
       "      <th>74</th>\n",
       "      <td>2012.0</td>\n",
       "      <td>BNA</td>\n",
       "    </tr>\n",
       "    <tr>\n",
       "      <th>75</th>\n",
       "      <td>2013.0</td>\n",
       "      <td>BNA</td>\n",
       "    </tr>\n",
       "    <tr>\n",
       "      <th>76</th>\n",
       "      <td>2014.0</td>\n",
       "      <td>BNA</td>\n",
       "    </tr>\n",
       "    <tr>\n",
       "      <th>77</th>\n",
       "      <td>2004.0</td>\n",
       "      <td>BOS</td>\n",
       "    </tr>\n",
       "    <tr>\n",
       "      <th>78</th>\n",
       "      <td>2005.0</td>\n",
       "      <td>BOS</td>\n",
       "    </tr>\n",
       "    <tr>\n",
       "      <th>79</th>\n",
       "      <td>2006.0</td>\n",
       "      <td>BOS</td>\n",
       "    </tr>\n",
       "    <tr>\n",
       "      <th>80</th>\n",
       "      <td>2007.0</td>\n",
       "      <td>BOS</td>\n",
       "    </tr>\n",
       "    <tr>\n",
       "      <th>81</th>\n",
       "      <td>2008.0</td>\n",
       "      <td>BOS</td>\n",
       "    </tr>\n",
       "    <tr>\n",
       "      <th>82</th>\n",
       "      <td>2009.0</td>\n",
       "      <td>BOS</td>\n",
       "    </tr>\n",
       "    <tr>\n",
       "      <th>83</th>\n",
       "      <td>2010.0</td>\n",
       "      <td>BOS</td>\n",
       "    </tr>\n",
       "    <tr>\n",
       "      <th>84</th>\n",
       "      <td>2011.0</td>\n",
       "      <td>BOS</td>\n",
       "    </tr>\n",
       "    <tr>\n",
       "      <th>85</th>\n",
       "      <td>2012.0</td>\n",
       "      <td>BOS</td>\n",
       "    </tr>\n",
       "    <tr>\n",
       "      <th>86</th>\n",
       "      <td>2013.0</td>\n",
       "      <td>BOS</td>\n",
       "    </tr>\n",
       "    <tr>\n",
       "      <th>87</th>\n",
       "      <td>2014.0</td>\n",
       "      <td>BOS</td>\n",
       "    </tr>\n",
       "    <tr>\n",
       "      <th>88</th>\n",
       "      <td>2004.0</td>\n",
       "      <td>BUF</td>\n",
       "    </tr>\n",
       "    <tr>\n",
       "      <th>89</th>\n",
       "      <td>2005.0</td>\n",
       "      <td>BUF</td>\n",
       "    </tr>\n",
       "    <tr>\n",
       "      <th>90</th>\n",
       "      <td>2006.0</td>\n",
       "      <td>BUF</td>\n",
       "    </tr>\n",
       "    <tr>\n",
       "      <th>91</th>\n",
       "      <td>2007.0</td>\n",
       "      <td>BUF</td>\n",
       "    </tr>\n",
       "    <tr>\n",
       "      <th>92</th>\n",
       "      <td>2008.0</td>\n",
       "      <td>BUF</td>\n",
       "    </tr>\n",
       "    <tr>\n",
       "      <th>93</th>\n",
       "      <td>2009.0</td>\n",
       "      <td>BUF</td>\n",
       "    </tr>\n",
       "    <tr>\n",
       "      <th>94</th>\n",
       "      <td>2010.0</td>\n",
       "      <td>BUF</td>\n",
       "    </tr>\n",
       "    <tr>\n",
       "      <th>95</th>\n",
       "      <td>2011.0</td>\n",
       "      <td>BUF</td>\n",
       "    </tr>\n",
       "    <tr>\n",
       "      <th>96</th>\n",
       "      <td>2012.0</td>\n",
       "      <td>BUF</td>\n",
       "    </tr>\n",
       "    <tr>\n",
       "      <th>97</th>\n",
       "      <td>2013.0</td>\n",
       "      <td>BUF</td>\n",
       "    </tr>\n",
       "    <tr>\n",
       "      <th>98</th>\n",
       "      <td>2014.0</td>\n",
       "      <td>BUF</td>\n",
       "    </tr>\n",
       "    <tr>\n",
       "      <th>99</th>\n",
       "      <td>2004.0</td>\n",
       "      <td>BUR</td>\n",
       "    </tr>\n",
       "  </tbody>\n",
       "</table>\n",
       "<p>100 rows × 2 columns</p>\n",
       "</div>"
      ],
      "text/plain": [
       "      year airport\n",
       "0   2004.0     ABQ\n",
       "1   2005.0     ABQ\n",
       "2   2006.0     ABQ\n",
       "3   2007.0     ABQ\n",
       "4   2008.0     ABQ\n",
       "5   2009.0     ABQ\n",
       "6   2010.0     ABQ\n",
       "7   2011.0     ABQ\n",
       "8   2012.0     ABQ\n",
       "9   2013.0     ABQ\n",
       "10  2014.0     ABQ\n",
       "11  2004.0     ANC\n",
       "12  2005.0     ANC\n",
       "13  2006.0     ANC\n",
       "14  2007.0     ANC\n",
       "15  2008.0     ANC\n",
       "16  2009.0     ANC\n",
       "17  2010.0     ANC\n",
       "18  2011.0     ANC\n",
       "19  2012.0     ANC\n",
       "20  2013.0     ANC\n",
       "21  2014.0     ANC\n",
       "22  2004.0     ATL\n",
       "23  2005.0     ATL\n",
       "24  2006.0     ATL\n",
       "25  2007.0     ATL\n",
       "26  2008.0     ATL\n",
       "27  2009.0     ATL\n",
       "28  2010.0     ATL\n",
       "29  2011.0     ATL\n",
       "..     ...     ...\n",
       "70  2008.0     BNA\n",
       "71  2009.0     BNA\n",
       "72  2010.0     BNA\n",
       "73  2011.0     BNA\n",
       "74  2012.0     BNA\n",
       "75  2013.0     BNA\n",
       "76  2014.0     BNA\n",
       "77  2004.0     BOS\n",
       "78  2005.0     BOS\n",
       "79  2006.0     BOS\n",
       "80  2007.0     BOS\n",
       "81  2008.0     BOS\n",
       "82  2009.0     BOS\n",
       "83  2010.0     BOS\n",
       "84  2011.0     BOS\n",
       "85  2012.0     BOS\n",
       "86  2013.0     BOS\n",
       "87  2014.0     BOS\n",
       "88  2004.0     BUF\n",
       "89  2005.0     BUF\n",
       "90  2006.0     BUF\n",
       "91  2007.0     BUF\n",
       "92  2008.0     BUF\n",
       "93  2009.0     BUF\n",
       "94  2010.0     BUF\n",
       "95  2011.0     BUF\n",
       "96  2012.0     BUF\n",
       "97  2013.0     BUF\n",
       "98  2014.0     BUF\n",
       "99  2004.0     BUR\n",
       "\n",
       "[100 rows x 2 columns]"
      ]
     },
     "execution_count": 119,
     "metadata": {},
     "output_type": "execute_result"
    }
   ],
   "source": [
    "df_ap_id = pd.DataFrame(ap_id)\n",
    "airports2 = pd.concat([airports2, df_ap_id], axis=1)\n",
    "del airports2['airport']\n",
    "airports2.columns = ['year','airport']\n",
    "airports2.head(100)"
   ]
  },
  {
   "cell_type": "code",
   "execution_count": 120,
   "metadata": {
    "collapsed": false
   },
   "outputs": [
    {
     "data": {
      "text/html": [
       "<div>\n",
       "<table border=\"1\" class=\"dataframe\">\n",
       "  <thead>\n",
       "    <tr style=\"text-align: right;\">\n",
       "      <th></th>\n",
       "      <th>year</th>\n",
       "      <th>airport</th>\n",
       "      <th>PC1</th>\n",
       "      <th>PC2</th>\n",
       "      <th>PC3</th>\n",
       "    </tr>\n",
       "  </thead>\n",
       "  <tbody>\n",
       "    <tr>\n",
       "      <th>0</th>\n",
       "      <td>2004.0</td>\n",
       "      <td>ABQ</td>\n",
       "      <td>2.460844</td>\n",
       "      <td>-0.418021</td>\n",
       "      <td>-1.066669</td>\n",
       "    </tr>\n",
       "    <tr>\n",
       "      <th>1</th>\n",
       "      <td>2005.0</td>\n",
       "      <td>ABQ</td>\n",
       "      <td>2.805717</td>\n",
       "      <td>-0.797850</td>\n",
       "      <td>-0.872290</td>\n",
       "    </tr>\n",
       "    <tr>\n",
       "      <th>2</th>\n",
       "      <td>2006.0</td>\n",
       "      <td>ABQ</td>\n",
       "      <td>2.326071</td>\n",
       "      <td>-0.235723</td>\n",
       "      <td>-0.423223</td>\n",
       "    </tr>\n",
       "    <tr>\n",
       "      <th>3</th>\n",
       "      <td>2007.0</td>\n",
       "      <td>ABQ</td>\n",
       "      <td>1.954575</td>\n",
       "      <td>-0.071516</td>\n",
       "      <td>-0.375289</td>\n",
       "    </tr>\n",
       "    <tr>\n",
       "      <th>4</th>\n",
       "      <td>2008.0</td>\n",
       "      <td>ABQ</td>\n",
       "      <td>2.449075</td>\n",
       "      <td>-0.464617</td>\n",
       "      <td>-0.131609</td>\n",
       "    </tr>\n",
       "  </tbody>\n",
       "</table>\n",
       "</div>"
      ],
      "text/plain": [
       "     year airport       PC1       PC2       PC3\n",
       "0  2004.0     ABQ  2.460844 -0.418021 -1.066669\n",
       "1  2005.0     ABQ  2.805717 -0.797850 -0.872290\n",
       "2  2006.0     ABQ  2.326071 -0.235723 -0.423223\n",
       "3  2007.0     ABQ  1.954575 -0.071516 -0.375289\n",
       "4  2008.0     ABQ  2.449075 -0.464617 -0.131609"
      ]
     },
     "execution_count": 120,
     "metadata": {},
     "output_type": "execute_result"
    }
   ],
   "source": [
    "airport_pca = airports2.join(Ydf, on=None, how='left')\n",
    "airport_pca.head()"
   ]
  },
  {
   "cell_type": "markdown",
   "metadata": {},
   "source": [
    "#### 5.8 Graph the results to a new feature space"
   ]
  },
  {
   "cell_type": "code",
   "execution_count": 121,
   "metadata": {
    "collapsed": false
   },
   "outputs": [
    {
     "data": {
      "image/png": "[encoded data removed]",
      "text/plain": [
       "<matplotlib.figure.Figure at 0x7fe938972dd0>"
      ]
     },
     "metadata": {},
     "output_type": "display_data"
    }
   ],
   "source": [
    "graph = airport_pca.plot(kind='scatter', x='PC2', y='PC1', figsize=(16,8))\n",
    "\n",
    "for i, airport in enumerate(airport_pca['airport']):\n",
    "    graph.annotate(airport, (airport_pca.iloc[i].PC2, airport_pca.iloc[i].PC1))"
   ]
  },
  {
   "cell_type": "markdown",
   "metadata": {},
   "source": [
    "#### 5.9 Write an analysis plan of your findings"
   ]
  },
  {
   "cell_type": "markdown",
   "metadata": {},
   "source": []
  },
  {
   "cell_type": "markdown",
   "metadata": {},
   "source": [
    "## Bonus:"
   ]
  },
  {
   "cell_type": "markdown",
   "metadata": {},
   "source": [
    "#### 2. Create visualization of your data using the ggplot features of matplotlib"
   ]
  },
  {
   "cell_type": "code",
   "execution_count": 131,
   "metadata": {
    "collapsed": false
   },
   "outputs": [
    {
     "data": {
      "image/png": "[encoded data removed]",
      "text/plain": [
       "<matplotlib.figure.Figure at 0x7fe93898edd0>"
      ]
     },
     "metadata": {},
     "output_type": "display_data"
    }
   ],
   "source": [
    "threedee = plt.figure(figsize=(16,8)).gca(projection='3d')\n",
    "threedee.scatter(airport_pca.PC1, airport_pca.PC2, airport_pca.PC3)\n",
    "threedee.set_xlabel('PC1')\n",
    "threedee.set_ylabel('PC2')\n",
    "threedee.set_zlabel('PC3')\n",
    "\n",
    "# I tried to extend the labeling to 3D but apparently that doesn't work. I found an algorithm to handle it\n",
    "# here: http://stackoverflow.com/questions/10374930/matplotlib-annotating-a-3d-scatter-plot\n",
    "# But decided really understanding it is beyond my capability this week.\n",
    "\n",
    "# for i, airport in enumerate(airport_pca['airport']):\n",
    "#    threedee.annotate(airport, (airport_pca.iloc[i].PC1, airport_pca.iloc[i].PC2, airport_pca.iloc[i].PC3))\n",
    "plt.show()"
   ]
  },
  {
   "cell_type": "code",
   "execution_count": null,
   "metadata": {
    "collapsed": true
   },
   "outputs": [],
   "source": []
  }
 ],
 "metadata": {
  "kernelspec": {
   "display_name": "Python [Root]",
   "language": "python",
   "name": "Python [Root]"
  },
  "language_info": {
   "codemirror_mode": {
    "name": "ipython",
    "version": 2
   },
   "file_extension": ".py",
   "mimetype": "text/x-python",
   "name": "python",
   "nbconvert_exporter": "python",
   "pygments_lexer": "ipython2",
   "version": "2.7.12"
  }
 },
 "nbformat": 4,
 "nbformat_minor": 0
}
