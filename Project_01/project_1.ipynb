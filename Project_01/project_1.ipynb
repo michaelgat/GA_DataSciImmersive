{
 "cells": [
  {
   "cell_type": "markdown",
   "metadata": {},
   "source": [
    "# Project 1\n",
    "\n",
    "## Step 1: Open the `sat_scores.csv` file. Investigate the data, and answer the questions below.\n"
   ]
  },
  {
   "cell_type": "markdown",
   "metadata": {},
   "source": [
    "##### 1. What does the data describe?"
   ]
  },
  {
   "cell_type": "markdown",
   "metadata": {},
   "source": [
    "SAT scores by state. Had to do some googling, and it appears that it is the average SAT in each state + DC, as well as the overall national average. Rate is the participation rate in that state (the percentage of high school students who take the test)."
   ]
  },
  {
   "cell_type": "markdown",
   "metadata": {},
   "source": [
    "##### 2. Does the data look complete? Are there any obvious issues with the observations?"
   ]
  },
  {
   "cell_type": "markdown",
   "metadata": {},
   "source": [
    "It appears to cover all 50 states plus DC, and a summary line. None of the numbers seems to be unusually wrong, badly formatted or outside the expected ranges."
   ]
  },
  {
   "cell_type": "markdown",
   "metadata": {},
   "source": [
    "##### 3. Create a data dictionary for the dataset."
   ]
  },
  {
   "cell_type": "markdown",
   "metadata": {
    "collapsed": true
   },
   "source": [
    "State: The two letter abbreviation for the state. \"All\" is national summary.\n",
    "\n",
    "Rate: Participation rate within the state.\n",
    "\n",
    "Verbal: Average SAT verbal score in the state.\n",
    "\n",
    "Math: Average SAT math score in the state."
   ]
  },
  {
   "cell_type": "markdown",
   "metadata": {},
   "source": [
    "## Step 2: Load the data."
   ]
  },
  {
   "cell_type": "markdown",
   "metadata": {},
   "source": [
    "##### 4. Load the data into a list of lists"
   ]
  },
  {
   "cell_type": "code",
   "execution_count": 3,
   "metadata": {
    "collapsed": false
   },
   "outputs": [],
   "source": [
    "import numpy as np\n",
    "import matplotlib.pyplot as plt\n",
    "import csv\n",
    "%matplotlib inline\n",
    "\n",
    "#Going to read in to this variable\n",
    "scores_list = []\n",
    "\n",
    "data_path = \"sat_scores.csv\"\n",
    "\n",
    "with open(data_path) as file:\n",
    "    for row in csv.reader(file):\n",
    "        scores_list.append(row)"
   ]
  },
  {
   "cell_type": "markdown",
   "metadata": {},
   "source": [
    "##### 5. Print the data"
   ]
  },
  {
   "cell_type": "code",
   "execution_count": 4,
   "metadata": {
    "collapsed": false
   },
   "outputs": [
    {
     "name": "stdout",
     "output_type": "stream",
     "text": [
      "[['State', 'Rate', 'Verbal', 'Math'], ['CT', '82', '509', '510'], ['NJ', '81', '499', '513'], ['MA', '79', '511', '515'], ['NY', '77', '495', '505'], ['NH', '72', '520', '516'], ['RI', '71', '501', '499'], ['PA', '71', '500', '499'], ['VT', '69', '511', '506'], ['ME', '69', '506', '500'], ['VA', '68', '510', '501'], ['DE', '67', '501', '499'], ['MD', '65', '508', '510'], ['NC', '65', '493', '499'], ['GA', '63', '491', '489'], ['IN', '60', '499', '501'], ['SC', '57', '486', '488'], ['DC', '56', '482', '474'], ['OR', '55', '526', '526'], ['FL', '54', '498', '499'], ['WA', '53', '527', '527'], ['TX', '53', '493', '499'], ['HI', '52', '485', '515'], ['AK', '51', '514', '510'], ['CA', '51', '498', '517'], ['AZ', '34', '523', '525'], ['NV', '33', '509', '515'], ['CO', '31', '539', '542'], ['OH', '26', '534', '439'], ['MT', '23', '539', '539'], ['WV', '18', '527', '512'], ['ID', '17', '543', '542'], ['TN', '13', '562', '553'], ['NM', '13', '551', '542'], ['IL', '12', '576', '589'], ['KY', '12', '550', '550'], ['WY', '11', '547', '545'], ['MI', '11', '561', '572'], ['MN', '9', '580', '589'], ['KS', '9', '577', '580'], ['AL', '9', '559', '554'], ['NB', '8', '562', '568'], ['OK', '8', '567', '561'], ['MO', '8', '577', '577'], ['LA', '7', '564', '562'], ['WI', '6', '584', '596'], ['AR', '6', '562', '550'], ['UT', '5', '575', '570'], ['IA', '5', '593', '603'], ['SD', '4', '577', '582'], ['ND', '4', '592', '599'], ['MS', '4', '566', '551'], ['All', '45', '506', '514']]\n"
     ]
    }
   ],
   "source": [
    "print [score for score in scores_list]"
   ]
  },
  {
   "cell_type": "markdown",
   "metadata": {
    "collapsed": true
   },
   "source": [
    "##### 6. Extract a list of the labels from the data, and remove them from the data."
   ]
  },
  {
   "cell_type": "code",
   "execution_count": 5,
   "metadata": {
    "collapsed": false
   },
   "outputs": [
    {
     "name": "stdout",
     "output_type": "stream",
     "text": [
      "['State', 'Rate', 'Verbal', 'Math']\n"
     ]
    }
   ],
   "source": [
    "#First Row contains the labels. Remove it.\n",
    "header_row = scores_list.pop(0)\n",
    "print header_row"
   ]
  },
  {
   "cell_type": "markdown",
   "metadata": {},
   "source": [
    "##### 7. Create a list of State names extracted from the data. (Hint: use the list of labels to index on the State column)"
   ]
  },
  {
   "cell_type": "code",
   "execution_count": 6,
   "metadata": {
    "collapsed": false
   },
   "outputs": [],
   "source": [
    "states = []\n",
    "#We know it's index 0 from looking at the data, but do it the right way.\n",
    "state_index = header_row.index(\"State\")\n",
    "states.append([score[state_index] for score in scores_list])"
   ]
  },
  {
   "cell_type": "markdown",
   "metadata": {},
   "source": [
    "##### 8. Print the types of each column"
   ]
  },
  {
   "cell_type": "code",
   "execution_count": 7,
   "metadata": {
    "collapsed": false
   },
   "outputs": [
    {
     "name": "stdout",
     "output_type": "stream",
     "text": [
      "[<type 'str'>, <type 'str'>, <type 'str'>, <type 'str'>]\n"
     ]
    }
   ],
   "source": [
    "print [type(col) for col in scores_list[0]]"
   ]
  },
  {
   "cell_type": "markdown",
   "metadata": {},
   "source": [
    "##### 9. Do any types need to be reassigned? If so, go ahead and do it."
   ]
  },
  {
   "cell_type": "markdown",
   "metadata": {},
   "source": [
    "Three of the columns contain numeric values, I'll create a new list of lists, in which column 0 (state) remains the same, but column 1-3 are converted to type int. Under different circumstances I might write a routine to analyze the data and only convert it to int if it was truly numeric, perhaps making some adjustments if it wasn't what it should be. In this case the data appears clean and it's pretty straightforward."
   ]
  },
  {
   "cell_type": "code",
   "execution_count": 8,
   "metadata": {
    "collapsed": false,
    "scrolled": true
   },
   "outputs": [
    {
     "name": "stdout",
     "output_type": "stream",
     "text": [
      "[['CT', 82, 509, 510], ['NJ', 81, 499, 513], ['MA', 79, 511, 515], ['NY', 77, 495, 505], ['NH', 72, 520, 516], ['RI', 71, 501, 499], ['PA', 71, 500, 499], ['VT', 69, 511, 506], ['ME', 69, 506, 500], ['VA', 68, 510, 501], ['DE', 67, 501, 499], ['MD', 65, 508, 510], ['NC', 65, 493, 499], ['GA', 63, 491, 489], ['IN', 60, 499, 501], ['SC', 57, 486, 488], ['DC', 56, 482, 474], ['OR', 55, 526, 526], ['FL', 54, 498, 499], ['WA', 53, 527, 527], ['TX', 53, 493, 499], ['HI', 52, 485, 515], ['AK', 51, 514, 510], ['CA', 51, 498, 517], ['AZ', 34, 523, 525], ['NV', 33, 509, 515], ['CO', 31, 539, 542], ['OH', 26, 534, 439], ['MT', 23, 539, 539], ['WV', 18, 527, 512], ['ID', 17, 543, 542], ['TN', 13, 562, 553], ['NM', 13, 551, 542], ['IL', 12, 576, 589], ['KY', 12, 550, 550], ['WY', 11, 547, 545], ['MI', 11, 561, 572], ['MN', 9, 580, 589], ['KS', 9, 577, 580], ['AL', 9, 559, 554], ['NB', 8, 562, 568], ['OK', 8, 567, 561], ['MO', 8, 577, 577], ['LA', 7, 564, 562], ['WI', 6, 584, 596], ['AR', 6, 562, 550], ['UT', 5, 575, 570], ['IA', 5, 593, 603], ['SD', 4, 577, 582], ['ND', 4, 592, 599], ['MS', 4, 566, 551], ['All', 45, 506, 514]]\n"
     ]
    }
   ],
   "source": [
    "scores_list_num = []\n",
    "for i in range (0,len(scores_list)):\n",
    "    new_row = []\n",
    "    new_row.append(scores_list[i][0])        \n",
    "    new_row += (map(int, scores_list[i][1:4]))\n",
    "    scores_list_num.append(new_row)\n",
    "print scores_list_num"
   ]
  },
  {
   "cell_type": "markdown",
   "metadata": {},
   "source": [
    "##### 10. Create a dictionary for each column mapping the State to its respective value for that column. "
   ]
  },
  {
   "cell_type": "code",
   "execution_count": 9,
   "metadata": {
    "collapsed": true
   },
   "outputs": [],
   "source": [
    "dict_rate = {}\n",
    "dict_verbal = {}\n",
    "dict_math ={}\n",
    "\n",
    "for row in scores_list_num:\n",
    "    dict_rate[row[0]] = row[1]\n",
    "    dict_verbal[row[0]] = row[2]\n",
    "    dict_math[row[0]] = row[3]"
   ]
  },
  {
   "cell_type": "markdown",
   "metadata": {},
   "source": [
    "##### 11. Create a dictionary with the values for each of the numeric columns"
   ]
  },
  {
   "cell_type": "code",
   "execution_count": 10,
   "metadata": {
    "collapsed": false
   },
   "outputs": [],
   "source": [
    "def dict_by_value(dict_input):\n",
    "    \"\"\"\n",
    "    Takes dictionary input, returns output as dictionary keyed to\n",
    "    original values, with the original keys now stored as lists of values.\n",
    "    \"\"\"\n",
    "    dict_output = {}\n",
    "    for key, value in dict_input.items():\n",
    "        if value in dict_output.keys():\n",
    "            dict_output[value].append(key)\n",
    "        else:    \n",
    "            dict_output[value] = [key]\n",
    "    return dict_output\n",
    "\n",
    "# Now apply it to the three existing dictionaries. Now we have one each that summarizes the states\n",
    "# with each average score. In this situation, there may be more than one state with the same score.\n",
    "dict_rate_by_value = dict_by_value(dict_rate)\n",
    "dict_verbal_by_value = dict_by_value(dict_verbal)\n",
    "dict_math_by_value = dict_by_value(dict_math)\n"
   ]
  },
  {
   "cell_type": "markdown",
   "metadata": {},
   "source": [
    "## Step 3: Describe the data"
   ]
  },
  {
   "cell_type": "markdown",
   "metadata": {},
   "source": [
    "##### 12. Print the min and max of each column"
   ]
  },
  {
   "cell_type": "code",
   "execution_count": 11,
   "metadata": {
    "collapsed": false
   },
   "outputs": [
    {
     "name": "stdout",
     "output_type": "stream",
     "text": [
      "Rates  min/max: 4 82\n",
      "Verbal min/max: 482 593\n",
      "Math   min/max: 439 603\n"
     ]
    }
   ],
   "source": [
    "print \"Rates  min/max: \" + str(min(dict_rate_by_value.keys())) + ' ' + str(max(dict_rate_by_value.keys()))\n",
    "print \"Verbal min/max: \" + str(min(dict_verbal_by_value.keys())) + ' ' + str(max(dict_verbal_by_value.keys()))\n",
    "print \"Math   min/max: \" + str(min(dict_math_by_value.keys())) + ' ' + str(max(dict_math_by_value.keys()))"
   ]
  },
  {
   "cell_type": "markdown",
   "metadata": {},
   "source": [
    "##### 13. Write a function using only list comprehensions, no loops, to compute Standard Deviation. Print the Standard Deviation of each numeric column."
   ]
  },
  {
   "cell_type": "code",
   "execution_count": 36,
   "metadata": {
    "collapsed": false
   },
   "outputs": [
    {
     "name": "stdout",
     "output_type": "stream",
     "text": [
      "Participation Rate Std Dev: 27.037996\n",
      "Verbal Score Std Dev: 32.915095\n",
      "Math Score Std Dev: 35.666996\n",
      "\n",
      "Participation Rate Std Dev (Numpy): 27.037996\n",
      "Verbal Score Std Dev (Numpy): 32.915095\n",
      "Math Score Std Dev(Numpy): 35.666996\n",
      "\n",
      "100000 loops, best of 3: 13.6 µs per loop\n",
      "10000 loops, best of 3: 20.9 µs per loop\n"
     ]
    }
   ],
   "source": [
    "def myStdDev(myList):\n",
    "    \"\"\"\n",
    "    Function takes a list of numbers and returns the standard deviation as a float\n",
    "    \"\"\"\n",
    "    myMean = sum(myList)/float(len(myList))\n",
    "    return sum([(float(value) - myMean) ** 2/len(dict_rate) for value in myList]) ** .5\n",
    "\n",
    "print \"Participation Rate Std Dev: %f\" % myStdDev(dict_rate.values())\n",
    "print \"Verbal Score Std Dev: %f\" % myStdDev(dict_verbal.values())\n",
    "print \"Math Score Std Dev: %f\" % myStdDev(dict_math.values())\n",
    "print\n",
    "\n",
    "#Just for fun, compare to numpy std dev\n",
    "print \"Participation Rate Std Dev (Numpy): %f\" % np.std(dict_rate.values())\n",
    "print \"Verbal Score Std Dev (Numpy): %f\" % np.std(dict_verbal.values())\n",
    "print \"Math Score Std Dev(Numpy): %f\" % np.std(dict_math.values())\n",
    "print\n",
    "\n",
    "# Also, mine is faster than numpy. So there.\n",
    "%timeit myStdDev(dict_rate.values())\n",
    "%timeit np.std(dict_rate.values())"
   ]
  },
  {
   "cell_type": "markdown",
   "metadata": {},
   "source": [
    "## Step 4: Visualize the data"
   ]
  },
  {
   "cell_type": "markdown",
   "metadata": {
    "collapsed": true
   },
   "source": [
    "##### 14. Using MatPlotLib and PyPlot, plot the distribution of the Rate using histograms."
   ]
  },
  {
   "cell_type": "code",
   "execution_count": 13,
   "metadata": {
    "collapsed": false
   },
   "outputs": [
    {
     "data": {
      "image/png": "[encoded data removed]",
      "text/plain": [
       "<matplotlib.figure.Figure at 0x7f1300a26ad0>"
      ]
     },
     "metadata": {},
     "output_type": "display_data"
    }
   ],
   "source": [
    "plt.hist(dict_rate.values(), 90, facecolor='green')\n",
    "plt.xlabel('Rate')\n",
    "plt.ylabel('# of States')\n",
    "plt.title(r'Histogram of SAT Participation Rate per State')\n",
    "plt.axis([0, 90, 0, 3.5])\n",
    "plt.yticks(np.arange(0,3.5,1))\n",
    "plt.grid(True)\n",
    "plt.show()"
   ]
  },
  {
   "cell_type": "markdown",
   "metadata": {},
   "source": [
    "##### 15. Plot the Math distribution"
   ]
  },
  {
   "cell_type": "code",
   "execution_count": 19,
   "metadata": {
    "collapsed": false
   },
   "outputs": [
    {
     "data": {
      "image/png": "[encoded data removed]",
      "text/plain": [
       "<matplotlib.figure.Figure at 0x7f12fd49d690>"
      ]
     },
     "metadata": {},
     "output_type": "display_data"
    }
   ],
   "source": [
    "plt.hist(dict_math.values(), 50, facecolor='red')\n",
    "plt.xlabel('Rate')\n",
    "plt.ylabel('# of States')\n",
    "plt.title(r'Histogram of SAT Math Scores by State')\n",
    "plt.axis([450, 650, 0, 10])\n",
    "plt.yticks(np.arange(0,10,2))\n",
    "plt.grid(True)\n",
    "plt.show()"
   ]
  },
  {
   "cell_type": "markdown",
   "metadata": {},
   "source": [
    "##### 16. Plot the Verbal distribution"
   ]
  },
  {
   "cell_type": "code",
   "execution_count": 31,
   "metadata": {
    "collapsed": false
   },
   "outputs": [
    {
     "data": {
      "image/png": "[encoded data removed]",
      "text/plain": [
       "<matplotlib.figure.Figure at 0x7f12fda32b90>"
      ]
     },
     "metadata": {},
     "output_type": "display_data"
    }
   ],
   "source": [
    "plt.hist(dict_verbal.values(), 50, facecolor='blue')\n",
    "plt.xlabel('Rate')\n",
    "plt.ylabel('# of States')\n",
    "plt.title(r'Histogram of SAT Math Scores by State')\n",
    "plt.axis([450, 650, 0, 10])\n",
    "plt.yticks(np.arange(0,10,2))\n",
    "plt.grid(True)\n",
    "plt.show()"
   ]
  },
  {
   "cell_type": "markdown",
   "metadata": {},
   "source": [
    "##### 17. What is the typical assumption for data distribution?"
   ]
  },
  {
   "cell_type": "markdown",
   "metadata": {
    "collapsed": false
   },
   "source": [
    "The typical assumption is a gaussian distribution. This is not always a good assumption to make. (See Taleb.)"
   ]
  },
  {
   "cell_type": "markdown",
   "metadata": {},
   "source": [
    "##### 18. Does that distribution hold true for our data?"
   ]
  },
  {
   "cell_type": "markdown",
   "metadata": {
    "collapsed": false
   },
   "source": [
    "No. And one would not expect that it should. This is not a distribution of individual performance, rather it is a distribution of state averages. While one would expect there to be some variability of regional averages, it would not be reasonable to presume that such a distribution would be gaussian. There are other issues, such as the varied participation rate in different states that would also tend to cause the date to be unusually distributed."
   ]
  },
  {
   "cell_type": "markdown",
   "metadata": {},
   "source": [
    "##### 19. Plot some scatterplots. **BONUS**: Use a PyPlot `figure` to present multiple plots at once."
   ]
  },
  {
   "cell_type": "code",
   "execution_count": 25,
   "metadata": {
    "collapsed": false
   },
   "outputs": [
    {
     "data": {
      "image/png": "[encoded data removed]",
      "text/plain": [
       "<matplotlib.figure.Figure at 0x7f12fd793490>"
      ]
     },
     "metadata": {},
     "output_type": "display_data"
    }
   ],
   "source": [
    "#A Scatter Plot by State\n",
    "x = [i[2] for i in scores_list_num]\n",
    "y = [i[3] for i in scores_list_num]\n",
    "z = [i[1] for i in scores_list_num]\n",
    "colors = np.random.rand(len(scores_list))\n",
    "plt.scatter(x, y, s=5, c=colors)\n",
    "plt.xlabel('Verbal')\n",
    "plt.ylabel('Math')\n",
    "plt.title(r'Verbal vs Math SAT Scores by State')\n",
    "plt.show()"
   ]
  },
  {
   "cell_type": "markdown",
   "metadata": {},
   "source": [
    "##### 20. Are there any interesting relationships to note?"
   ]
  },
  {
   "cell_type": "markdown",
   "metadata": {
    "collapsed": false
   },
   "source": [
    "There is a very high correlation between verbal and math scores in each state, with only one significant outlier. Examination of the raw data show it's Ohio, where people are apparently very poor at math.\n",
    "I played around a bit and did not find anything else particularly interesting."
   ]
  },
  {
   "cell_type": "markdown",
   "metadata": {},
   "source": [
    "##### 21. Create box plots for each variable. "
   ]
  },
  {
   "cell_type": "code",
   "execution_count": 29,
   "metadata": {
    "collapsed": false
   },
   "outputs": [
    {
     "data": {
      "image/png": "[encoded data removed]",
      "text/plain": [
       "<matplotlib.figure.Figure at 0x7f12fe42ad90>"
      ]
     },
     "metadata": {},
     "output_type": "display_data"
    },
    {
     "data": {
      "image/png": "[encoded data removed]",
      "text/plain": [
       "<matplotlib.figure.Figure at 0x7f12fdd9f3d0>"
      ]
     },
     "metadata": {},
     "output_type": "display_data"
    }
   ],
   "source": [
    "plt.boxplot((x,y), 0, 'rs', 0, showmeans = True, labels=('Verbal','Math'))\n",
    "plt.title(r'Average SAT Score by State')\n",
    "plt.show()\n",
    "\n",
    "#Did the box plot for rate seperately as it has a different scale and doesn't really make sense with the others\n",
    "#Notch this one, just for fun\n",
    "plt.boxplot(z, 1, 'rs', 0, showmeans = True, labels = (' '))\n",
    "plt.title(r'Average SAT Participation Rate by State')\n",
    "plt.show()"
   ]
  },
  {
   "cell_type": "markdown",
   "metadata": {},
   "source": [
    "##### BONUS: Using Tableau, create a heat map for each variable using a map of the US. "
   ]
  },
  {
   "cell_type": "markdown",
   "metadata": {
    "collapsed": true
   },
   "source": [
    "Having Tableau issues, I'll have to skp the bonus."
   ]
  }
 ],
 "metadata": {
  "kernelspec": {
   "display_name": "Python 2",
   "language": "python",
   "name": "python2"
  },
  "language_info": {
   "codemirror_mode": {
    "name": "ipython",
    "version": 2
   },
   "file_extension": ".py",
   "mimetype": "text/x-python",
   "name": "python",
   "nbconvert_exporter": "python",
   "pygments_lexer": "ipython2",
   "version": "2.7.11"
  }
 },
 "nbformat": 4,
 "nbformat_minor": 0
}
